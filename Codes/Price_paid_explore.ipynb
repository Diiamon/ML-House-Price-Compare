{
 "cells": [
  {
   "cell_type": "markdown",
   "id": "b7477908-0bf1-4363-abd2-d517099ca317",
   "metadata": {},
   "source": [
    "# Data Story Analysis: Price Paid Exploration\n",
    "\n",
    "## Introduction\n",
    "\n",
    "This notebook aims to find the best machine learning model for a given dataset. Each code block contributes to various stages of data preparation, exploration, model training, evaluation, and selection. Below is a detailed breakdown of the code and its significance in the process.\n",
    "\n",
    "### Data Loading and Initial Exploration\n",
    "The initial part of any data analysis involves loading the dataset and conducting an exploratory data analysis (EDA) to understand its structure and contents."
   ]
  },
  {
   "cell_type": "code",
   "execution_count": 1,
   "id": "0558a960-b18f-49d1-abad-4d31ab86005a",
   "metadata": {
    "tags": []
   },
   "outputs": [],
   "source": [
    "import numpy as np  # numpy!\n",
    "import seaborn as sns # visualisation!\n",
    "import matplotlib.pyplot as plt # visualisation!\n",
    "import pandas as pd # dataframes & data analysis!\n",
    "import datetime\n",
    "\n",
    "from sklearn.tree import DecisionTreeClassifier\n",
    "from sklearn.metrics import confusion_matrix, accuracy_score\n",
    "from sklearn.model_selection import train_test_split, cross_val_score, GridSearchCV\n",
    "from sklearn import metrics\n",
    "import xgboost as xgb\n",
    "\n",
    "#We will beed a modellinglibraru: Statsmodels\n",
    "import statsmodels.api as sm # contains the model(s)\n",
    "import statsmodels.tools # contains the metrics and others \n",
    "\n",
    "#we get a few ensemble models as well!\n",
    "from sklearn.ensemble import BaggingClassifier\n",
    "from sklearn.ensemble import RandomForestClassifier, ExtraTreesClassifier"
   ]
  },
  {
   "cell_type": "code",
   "execution_count": 2,
   "id": "fc2c848b-10f0-45d1-a79a-f0d257284bba",
   "metadata": {},
   "outputs": [],
   "source": [
    "# house_df = pd.read_csv('price_paid_records.csv')"
   ]
  },
  {
   "cell_type": "markdown",
   "id": "b9a8ed58-5b8b-4bf4-8dd1-f6b3698065df",
   "metadata": {
    "tags": []
   },
   "source": [
    "## About Dataset\n",
    "\n",
    "The Price Paid Data includes information on all registered property sales in England and Wales that are sold for full market value. Address details have been truncated to the town/city level.\n",
    "\n",
    "You might also find the HM Land Registry transaction records to be a useful supplement to this dataset: [Dataset](https://www.kaggle.com/hm-land-registry/uk-land-registry-transactions)\n",
    "\n",
    "<u><b>The available fields are as follows:</b></u>\n",
    "\n",
    "Transaction unique identifier A reference number which is generated automatically recording each published sale. The number is unique and will change each time a sale is recorded.\n",
    "\n",
    "Price Sale price stated on the transfer deed.\n",
    "\n",
    "Date of Transfer Date when the sale was completed, as stated on the transfer deed.\n",
    "\n",
    "Property Type:\n",
    "- D = Detached\n",
    "- S = Semi-Detached\n",
    "- T = Terraced\n",
    "- F = Flats/Maisonettes\n",
    "- O = Other\n",
    "\n",
    "__Note that:__\n",
    "\n",
    "we only record the above categories to describe property type, we do not separately identify bungalows.\n",
    "end-of-terrace properties are included in the Terraced category above.\n",
    "\n",
    "‘Other’ is only valid where the transaction relates to a property type that is not covered by existing values.\n",
    "\n",
    "Old/New Indicates the age of the property and applies to all price paid transactions, residential and non-residential.\n",
    "\n",
    "- Y = a newly built property\n",
    "- N = an established residential building\n",
    "\n",
    "Duration Relates to the tenure: \n",
    "- F = Freehold\n",
    "- L = Leasehold etc.\n",
    "\n",
    "__Note that HM Land Registry does not record leases of 7 years or less in the Price Paid Dataset.__\n",
    "\n",
    "- Town/City\n",
    "\n",
    "- District\n",
    "\n",
    "- County\n",
    "\n",
    "PPD Category Type Indicates the type of Price Paid transaction.\n",
    "\n",
    "- A = Standard Price Paid entry, includes single residential property sold for full market value.\n",
    "- B = Additional Price Paid entry including transfers under a power of sale/repossessions, buy-to-lets (where they can be identified by a Mortgage) and transfers to non-private individuals. Note that category B does not separately identify the transaction types stated. HM Land Registry has been collecting information on Category A transactions from January 1995. Category B transactions were identified from October 2013.\n",
    "\n",
    "Record Status - monthly file only Indicates additions, changes and deletions to the records.(see guide below).\n",
    "\n",
    "- A = Addition\n",
    "- C = Change\n",
    "- D = Delete.\n",
    "\n",
    "Note that where a transaction changes category type due to misallocation (as above) it will be deleted from the original category type and added to the correct category with a new transaction unique identifier.\n",
    "\n",
    "This data was kindly released by HM Land Registry under the Open Government License 3.0. \n",
    "\n",
    "## Dataset info \n",
    "\n",
    "- 22489348 Rows of data (2000000 for the random subset)\n",
    "- 11 columns \n",
    "- Column names \n",
    "    - Transaction unique identifier\n",
    "    - Price\n",
    "    - Date of Transfer\n",
    "    - Property Type\n",
    "    - Old/New\n",
    "    - Duration\n",
    "    - Town/City\n",
    "    - District\n",
    "    - County\n",
    "    - PPDCategory Type\n",
    "    - Record Status - month file only"
   ]
  },
  {
   "cell_type": "markdown",
   "id": "79871035-9de8-481b-9438-37ed4f51eb21",
   "metadata": {},
   "source": [
    "## Random subset of the data \n",
    "\n",
    "Creating and saving a random subset of the data as the original data is too large to run at this moment"
   ]
  },
  {
   "cell_type": "code",
   "execution_count": 3,
   "id": "d3615460-0dbf-4ba6-8ddc-05d182d0224c",
   "metadata": {
    "tags": []
   },
   "outputs": [],
   "source": [
    "# import random\n",
    "# import pandas as pd\n",
    "# import numpy as np\n",
    "\n",
    "# # Generate a random sample of unique indices\n",
    "# subset_size = 2000000\n",
    "# random_indices = np.random.choice(len(house_df), subset_size, replace=False)\n",
    "\n",
    "# # Create the random subset DataFrame using the indices\n",
    "# house_df_rs = house_df.iloc[random_indices]\n",
    "\n",
    "# house_df_rs"
   ]
  },
  {
   "cell_type": "code",
   "execution_count": 4,
   "id": "d971cb65-411b-40d6-bcf4-36303e2cb22f",
   "metadata": {},
   "outputs": [],
   "source": [
    "# house_df_rs.shape"
   ]
  },
  {
   "cell_type": "code",
   "execution_count": 5,
   "id": "ad64ef5e-2cf4-42b5-a3e7-16e9f3999154",
   "metadata": {},
   "outputs": [],
   "source": [
    "# house_df_rs.to_csv('house_df_rs', index=False)"
   ]
  },
  {
   "cell_type": "code",
   "execution_count": 6,
   "id": "c933e83b-64e8-4730-a46e-f04717f92fe1",
   "metadata": {},
   "outputs": [],
   "source": [
    "house_df = pd.read_csv('house_df_rs')"
   ]
  },
  {
   "cell_type": "markdown",
   "id": "ad0d3065-d856-4ba5-bb50-d735a59984c2",
   "metadata": {},
   "source": [
    "## Checking the dataset matches the Meta Data\n",
    "\n",
    "### Output Significance:\n",
    "\n",
    "- The output shows the first few rows, giving insight into the columns, data types, and potential anomalies."
   ]
  },
  {
   "cell_type": "code",
   "execution_count": 7,
   "id": "1e754a4c-8d53-4668-bd04-476b0610aa5a",
   "metadata": {},
   "outputs": [
    {
     "data": {
      "text/html": [
       "<div>\n",
       "<style scoped>\n",
       "    .dataframe tbody tr th:only-of-type {\n",
       "        vertical-align: middle;\n",
       "    }\n",
       "\n",
       "    .dataframe tbody tr th {\n",
       "        vertical-align: top;\n",
       "    }\n",
       "\n",
       "    .dataframe thead th {\n",
       "        text-align: right;\n",
       "    }\n",
       "</style>\n",
       "<table border=\"1\" class=\"dataframe\">\n",
       "  <thead>\n",
       "    <tr style=\"text-align: right;\">\n",
       "      <th></th>\n",
       "      <th>Transaction unique identifier</th>\n",
       "      <th>Price</th>\n",
       "      <th>Date of Transfer</th>\n",
       "      <th>Property Type</th>\n",
       "      <th>Old/New</th>\n",
       "      <th>Duration</th>\n",
       "      <th>Town/City</th>\n",
       "      <th>District</th>\n",
       "      <th>County</th>\n",
       "      <th>PPDCategory Type</th>\n",
       "      <th>Record Status - monthly file only</th>\n",
       "    </tr>\n",
       "  </thead>\n",
       "  <tbody>\n",
       "    <tr>\n",
       "      <th>0</th>\n",
       "      <td>{AB69522A-300A-4122-B95B-DEF700873018}</td>\n",
       "      <td>50500</td>\n",
       "      <td>1998-06-12 00:00</td>\n",
       "      <td>S</td>\n",
       "      <td>N</td>\n",
       "      <td>L</td>\n",
       "      <td>TAMWORTH</td>\n",
       "      <td>TAMWORTH</td>\n",
       "      <td>STAFFORDSHIRE</td>\n",
       "      <td>A</td>\n",
       "      <td>A</td>\n",
       "    </tr>\n",
       "    <tr>\n",
       "      <th>1</th>\n",
       "      <td>{AA9CF0FB-E7BF-4CD6-9E9C-75FD65E58524}</td>\n",
       "      <td>66500</td>\n",
       "      <td>2001-10-31 00:00</td>\n",
       "      <td>S</td>\n",
       "      <td>N</td>\n",
       "      <td>F</td>\n",
       "      <td>MARKET HARBOROUGH</td>\n",
       "      <td>HARBOROUGH</td>\n",
       "      <td>LEICESTERSHIRE</td>\n",
       "      <td>A</td>\n",
       "      <td>A</td>\n",
       "    </tr>\n",
       "    <tr>\n",
       "      <th>2</th>\n",
       "      <td>{6BDF5B7F-D4B9-4758-9963-696F028752A4}</td>\n",
       "      <td>15000</td>\n",
       "      <td>2000-09-01 00:00</td>\n",
       "      <td>T</td>\n",
       "      <td>N</td>\n",
       "      <td>F</td>\n",
       "      <td>STANLEY</td>\n",
       "      <td>DERWENTSIDE</td>\n",
       "      <td>DURHAM</td>\n",
       "      <td>A</td>\n",
       "      <td>A</td>\n",
       "    </tr>\n",
       "    <tr>\n",
       "      <th>3</th>\n",
       "      <td>{6CA43CD3-85D2-4519-8EE2-C2B1AB4F843F}</td>\n",
       "      <td>189952</td>\n",
       "      <td>2002-12-20 00:00</td>\n",
       "      <td>D</td>\n",
       "      <td>Y</td>\n",
       "      <td>F</td>\n",
       "      <td>NORWICH</td>\n",
       "      <td>SOUTH NORFOLK</td>\n",
       "      <td>NORFOLK</td>\n",
       "      <td>A</td>\n",
       "      <td>A</td>\n",
       "    </tr>\n",
       "    <tr>\n",
       "      <th>4</th>\n",
       "      <td>{4042A5EF-C662-43CE-996F-F5D7A54BC03E}</td>\n",
       "      <td>77300</td>\n",
       "      <td>1997-06-27 00:00</td>\n",
       "      <td>T</td>\n",
       "      <td>N</td>\n",
       "      <td>F</td>\n",
       "      <td>CAMBRIDGE</td>\n",
       "      <td>CAMBRIDGE</td>\n",
       "      <td>CAMBRIDGESHIRE</td>\n",
       "      <td>A</td>\n",
       "      <td>A</td>\n",
       "    </tr>\n",
       "  </tbody>\n",
       "</table>\n",
       "</div>"
      ],
      "text/plain": [
       "            Transaction unique identifier   Price  Date of Transfer  \\\n",
       "0  {AB69522A-300A-4122-B95B-DEF700873018}   50500  1998-06-12 00:00   \n",
       "1  {AA9CF0FB-E7BF-4CD6-9E9C-75FD65E58524}   66500  2001-10-31 00:00   \n",
       "2  {6BDF5B7F-D4B9-4758-9963-696F028752A4}   15000  2000-09-01 00:00   \n",
       "3  {6CA43CD3-85D2-4519-8EE2-C2B1AB4F843F}  189952  2002-12-20 00:00   \n",
       "4  {4042A5EF-C662-43CE-996F-F5D7A54BC03E}   77300  1997-06-27 00:00   \n",
       "\n",
       "  Property Type Old/New Duration          Town/City       District  \\\n",
       "0             S       N        L           TAMWORTH       TAMWORTH   \n",
       "1             S       N        F  MARKET HARBOROUGH     HARBOROUGH   \n",
       "2             T       N        F            STANLEY    DERWENTSIDE   \n",
       "3             D       Y        F            NORWICH  SOUTH NORFOLK   \n",
       "4             T       N        F          CAMBRIDGE      CAMBRIDGE   \n",
       "\n",
       "           County PPDCategory Type Record Status - monthly file only  \n",
       "0   STAFFORDSHIRE                A                                 A  \n",
       "1  LEICESTERSHIRE                A                                 A  \n",
       "2          DURHAM                A                                 A  \n",
       "3         NORFOLK                A                                 A  \n",
       "4  CAMBRIDGESHIRE                A                                 A  "
      ]
     },
     "execution_count": 7,
     "metadata": {},
     "output_type": "execute_result"
    }
   ],
   "source": [
    "house_df.head() # Checking the dataset was read in as well as column names"
   ]
  },
  {
   "cell_type": "code",
   "execution_count": 8,
   "id": "6a0f7397-d30a-4275-8dc7-a36f9973bb9f",
   "metadata": {},
   "outputs": [
    {
     "data": {
      "text/plain": [
       "(2000000, 11)"
      ]
     },
     "execution_count": 8,
     "metadata": {},
     "output_type": "execute_result"
    }
   ],
   "source": [
    "house_df.shape # checking for the number of rows and columns"
   ]
  },
  {
   "cell_type": "code",
   "execution_count": 9,
   "id": "7fea07a4-b64c-4caa-ae5f-dcf99ea0d702",
   "metadata": {},
   "outputs": [
    {
     "data": {
      "text/plain": [
       "Transaction unique identifier        object\n",
       "Price                                 int64\n",
       "Date of Transfer                     object\n",
       "Property Type                        object\n",
       "Old/New                              object\n",
       "Duration                             object\n",
       "Town/City                            object\n",
       "District                             object\n",
       "County                               object\n",
       "PPDCategory Type                     object\n",
       "Record Status - monthly file only    object\n",
       "dtype: object"
      ]
     },
     "execution_count": 9,
     "metadata": {},
     "output_type": "execute_result"
    }
   ],
   "source": [
    "house_df.dtypes # checking the data types"
   ]
  },
  {
   "cell_type": "code",
   "execution_count": 10,
   "id": "f6472426-662b-4455-abaa-6d64dddaec62",
   "metadata": {
    "tags": []
   },
   "outputs": [
    {
     "data": {
      "text/html": [
       "<div>\n",
       "<style scoped>\n",
       "    .dataframe tbody tr th:only-of-type {\n",
       "        vertical-align: middle;\n",
       "    }\n",
       "\n",
       "    .dataframe tbody tr th {\n",
       "        vertical-align: top;\n",
       "    }\n",
       "\n",
       "    .dataframe thead th {\n",
       "        text-align: right;\n",
       "    }\n",
       "</style>\n",
       "<table border=\"1\" class=\"dataframe\">\n",
       "  <thead>\n",
       "    <tr style=\"text-align: right;\">\n",
       "      <th></th>\n",
       "      <th>Transaction unique identifier</th>\n",
       "      <th>Price</th>\n",
       "      <th>Date of Transfer</th>\n",
       "      <th>Property Type</th>\n",
       "      <th>Old/New</th>\n",
       "      <th>Duration</th>\n",
       "      <th>Town/City</th>\n",
       "      <th>District</th>\n",
       "      <th>County</th>\n",
       "      <th>PPDCategory Type</th>\n",
       "      <th>Record Status - monthly file only</th>\n",
       "    </tr>\n",
       "  </thead>\n",
       "  <tbody>\n",
       "    <tr>\n",
       "      <th>count</th>\n",
       "      <td>2000000</td>\n",
       "      <td>2.000000e+06</td>\n",
       "      <td>2000000</td>\n",
       "      <td>2000000</td>\n",
       "      <td>2000000</td>\n",
       "      <td>2000000</td>\n",
       "      <td>2000000</td>\n",
       "      <td>2000000</td>\n",
       "      <td>2000000</td>\n",
       "      <td>2000000</td>\n",
       "      <td>2000000</td>\n",
       "    </tr>\n",
       "    <tr>\n",
       "      <th>unique</th>\n",
       "      <td>2000000</td>\n",
       "      <td>NaN</td>\n",
       "      <td>7752</td>\n",
       "      <td>5</td>\n",
       "      <td>2</td>\n",
       "      <td>3</td>\n",
       "      <td>1163</td>\n",
       "      <td>451</td>\n",
       "      <td>127</td>\n",
       "      <td>2</td>\n",
       "      <td>1</td>\n",
       "    </tr>\n",
       "    <tr>\n",
       "      <th>top</th>\n",
       "      <td>{AB69522A-300A-4122-B95B-DEF700873018}</td>\n",
       "      <td>NaN</td>\n",
       "      <td>2016-03-31 00:00</td>\n",
       "      <td>T</td>\n",
       "      <td>N</td>\n",
       "      <td>F</td>\n",
       "      <td>LONDON</td>\n",
       "      <td>BIRMINGHAM</td>\n",
       "      <td>GREATER LONDON</td>\n",
       "      <td>A</td>\n",
       "      <td>A</td>\n",
       "    </tr>\n",
       "    <tr>\n",
       "      <th>freq</th>\n",
       "      <td>1</td>\n",
       "      <td>NaN</td>\n",
       "      <td>2913</td>\n",
       "      <td>616520</td>\n",
       "      <td>1796714</td>\n",
       "      <td>1527740</td>\n",
       "      <td>159078</td>\n",
       "      <td>29384</td>\n",
       "      <td>266835</td>\n",
       "      <td>1968842</td>\n",
       "      <td>2000000</td>\n",
       "    </tr>\n",
       "    <tr>\n",
       "      <th>mean</th>\n",
       "      <td>NaN</td>\n",
       "      <td>1.783142e+05</td>\n",
       "      <td>NaN</td>\n",
       "      <td>NaN</td>\n",
       "      <td>NaN</td>\n",
       "      <td>NaN</td>\n",
       "      <td>NaN</td>\n",
       "      <td>NaN</td>\n",
       "      <td>NaN</td>\n",
       "      <td>NaN</td>\n",
       "      <td>NaN</td>\n",
       "    </tr>\n",
       "    <tr>\n",
       "      <th>std</th>\n",
       "      <td>NaN</td>\n",
       "      <td>3.971696e+05</td>\n",
       "      <td>NaN</td>\n",
       "      <td>NaN</td>\n",
       "      <td>NaN</td>\n",
       "      <td>NaN</td>\n",
       "      <td>NaN</td>\n",
       "      <td>NaN</td>\n",
       "      <td>NaN</td>\n",
       "      <td>NaN</td>\n",
       "      <td>NaN</td>\n",
       "    </tr>\n",
       "    <tr>\n",
       "      <th>min</th>\n",
       "      <td>NaN</td>\n",
       "      <td>1.000000e+00</td>\n",
       "      <td>NaN</td>\n",
       "      <td>NaN</td>\n",
       "      <td>NaN</td>\n",
       "      <td>NaN</td>\n",
       "      <td>NaN</td>\n",
       "      <td>NaN</td>\n",
       "      <td>NaN</td>\n",
       "      <td>NaN</td>\n",
       "      <td>NaN</td>\n",
       "    </tr>\n",
       "    <tr>\n",
       "      <th>25%</th>\n",
       "      <td>NaN</td>\n",
       "      <td>7.500000e+04</td>\n",
       "      <td>NaN</td>\n",
       "      <td>NaN</td>\n",
       "      <td>NaN</td>\n",
       "      <td>NaN</td>\n",
       "      <td>NaN</td>\n",
       "      <td>NaN</td>\n",
       "      <td>NaN</td>\n",
       "      <td>NaN</td>\n",
       "      <td>NaN</td>\n",
       "    </tr>\n",
       "    <tr>\n",
       "      <th>50%</th>\n",
       "      <td>NaN</td>\n",
       "      <td>1.300000e+05</td>\n",
       "      <td>NaN</td>\n",
       "      <td>NaN</td>\n",
       "      <td>NaN</td>\n",
       "      <td>NaN</td>\n",
       "      <td>NaN</td>\n",
       "      <td>NaN</td>\n",
       "      <td>NaN</td>\n",
       "      <td>NaN</td>\n",
       "      <td>NaN</td>\n",
       "    </tr>\n",
       "    <tr>\n",
       "      <th>75%</th>\n",
       "      <td>NaN</td>\n",
       "      <td>2.100000e+05</td>\n",
       "      <td>NaN</td>\n",
       "      <td>NaN</td>\n",
       "      <td>NaN</td>\n",
       "      <td>NaN</td>\n",
       "      <td>NaN</td>\n",
       "      <td>NaN</td>\n",
       "      <td>NaN</td>\n",
       "      <td>NaN</td>\n",
       "      <td>NaN</td>\n",
       "    </tr>\n",
       "    <tr>\n",
       "      <th>max</th>\n",
       "      <td>NaN</td>\n",
       "      <td>9.844630e+07</td>\n",
       "      <td>NaN</td>\n",
       "      <td>NaN</td>\n",
       "      <td>NaN</td>\n",
       "      <td>NaN</td>\n",
       "      <td>NaN</td>\n",
       "      <td>NaN</td>\n",
       "      <td>NaN</td>\n",
       "      <td>NaN</td>\n",
       "      <td>NaN</td>\n",
       "    </tr>\n",
       "  </tbody>\n",
       "</table>\n",
       "</div>"
      ],
      "text/plain": [
       "                 Transaction unique identifier         Price  \\\n",
       "count                                  2000000  2.000000e+06   \n",
       "unique                                 2000000           NaN   \n",
       "top     {AB69522A-300A-4122-B95B-DEF700873018}           NaN   \n",
       "freq                                         1           NaN   \n",
       "mean                                       NaN  1.783142e+05   \n",
       "std                                        NaN  3.971696e+05   \n",
       "min                                        NaN  1.000000e+00   \n",
       "25%                                        NaN  7.500000e+04   \n",
       "50%                                        NaN  1.300000e+05   \n",
       "75%                                        NaN  2.100000e+05   \n",
       "max                                        NaN  9.844630e+07   \n",
       "\n",
       "        Date of Transfer Property Type  Old/New Duration Town/City  \\\n",
       "count            2000000       2000000  2000000  2000000   2000000   \n",
       "unique              7752             5        2        3      1163   \n",
       "top     2016-03-31 00:00             T        N        F    LONDON   \n",
       "freq                2913        616520  1796714  1527740    159078   \n",
       "mean                 NaN           NaN      NaN      NaN       NaN   \n",
       "std                  NaN           NaN      NaN      NaN       NaN   \n",
       "min                  NaN           NaN      NaN      NaN       NaN   \n",
       "25%                  NaN           NaN      NaN      NaN       NaN   \n",
       "50%                  NaN           NaN      NaN      NaN       NaN   \n",
       "75%                  NaN           NaN      NaN      NaN       NaN   \n",
       "max                  NaN           NaN      NaN      NaN       NaN   \n",
       "\n",
       "          District          County PPDCategory Type  \\\n",
       "count      2000000         2000000          2000000   \n",
       "unique         451             127                2   \n",
       "top     BIRMINGHAM  GREATER LONDON                A   \n",
       "freq         29384          266835          1968842   \n",
       "mean           NaN             NaN              NaN   \n",
       "std            NaN             NaN              NaN   \n",
       "min            NaN             NaN              NaN   \n",
       "25%            NaN             NaN              NaN   \n",
       "50%            NaN             NaN              NaN   \n",
       "75%            NaN             NaN              NaN   \n",
       "max            NaN             NaN              NaN   \n",
       "\n",
       "       Record Status - monthly file only  \n",
       "count                            2000000  \n",
       "unique                                 1  \n",
       "top                                    A  \n",
       "freq                             2000000  \n",
       "mean                                 NaN  \n",
       "std                                  NaN  \n",
       "min                                  NaN  \n",
       "25%                                  NaN  \n",
       "50%                                  NaN  \n",
       "75%                                  NaN  \n",
       "max                                  NaN  "
      ]
     },
     "execution_count": 10,
     "metadata": {},
     "output_type": "execute_result"
    }
   ],
   "source": [
    "house_df.describe(include = 'all')"
   ]
  },
  {
   "cell_type": "markdown",
   "id": "541ed540-aa17-428e-afcb-45890b7bd700",
   "metadata": {},
   "source": [
    "## Data Cleaning and Preprocessing\n",
    "\n",
    "Data cleaning is crucial to handle missing values, correct data types, and prepare the data for analysis.\n",
    "\n",
    "**Explanation:**\n",
    "\n",
    "- Missing Values Check: Identifies columns with missing values.\n",
    "- Handling Missing Values: Drops rows with missing values to ensure clean data.\n",
    "- Data Type Correction: Ensures Date is in datetime format.\n",
    "\n",
    "**Output Significance:**\n",
    "\n",
    "- The absence of missing values and correct data types is essential for accurate analysis and model training."
   ]
  },
  {
   "cell_type": "code",
   "execution_count": 11,
   "id": "7ae26544-339e-4bdf-aae9-06c439408c57",
   "metadata": {},
   "outputs": [],
   "source": [
    "#making sure the date is in the right format for python\n",
    "house_df['Date of Transfer'] = pd.to_datetime(house_df['Date of Transfer'], format='%Y-%m-%d')"
   ]
  },
  {
   "cell_type": "code",
   "execution_count": 12,
   "id": "11d59ca5-6f83-4488-ab54-61d9b2acab2a",
   "metadata": {},
   "outputs": [
    {
     "data": {
      "text/plain": [
       "Transaction unique identifier                object\n",
       "Price                                         int64\n",
       "Date of Transfer                     datetime64[ns]\n",
       "Property Type                                object\n",
       "Old/New                                      object\n",
       "Duration                                     object\n",
       "Town/City                                    object\n",
       "District                                     object\n",
       "County                                       object\n",
       "PPDCategory Type                             object\n",
       "Record Status - monthly file only            object\n",
       "dtype: object"
      ]
     },
     "execution_count": 12,
     "metadata": {},
     "output_type": "execute_result"
    }
   ],
   "source": [
    "house_df.dtypes"
   ]
  },
  {
   "cell_type": "code",
   "execution_count": 13,
   "id": "9f709e31-ee54-4e75-8bb9-0ff85432e278",
   "metadata": {},
   "outputs": [
    {
     "name": "stdout",
     "output_type": "stream",
     "text": [
      "Property type options are : ['S' 'T' 'D' 'F' 'O']\n",
      "Old/New options are : ['N' 'Y']\n",
      "Duration options are : ['L' 'F' 'U']\n",
      "PPDCategory Type options are : ['A' 'B']\n",
      "Record Status - monthly file only options are : ['A']\n"
     ]
    }
   ],
   "source": [
    "# checking the classification options are the same as the meta data\n",
    "print(f\"Property type options are : {house_df['Property Type'].unique()}\")\n",
    "print(f\"Old/New options are : {house_df['Old/New'].unique()}\")\n",
    "print(f\"Duration options are : {house_df['Duration'].unique()}\")\n",
    "print(f\"PPDCategory Type options are : {house_df['PPDCategory Type'].unique()}\")\n",
    "print(f\"Record Status - monthly file only options are : {house_df['Record Status - monthly file only'].unique()}\")"
   ]
  },
  {
   "cell_type": "code",
   "execution_count": 14,
   "id": "b0dff92d-999c-4e6d-a7bf-ba7f2b14d912",
   "metadata": {},
   "outputs": [
    {
     "name": "stdout",
     "output_type": "stream",
     "text": [
      "'F' sum : 1527740, percentage : 0.76387\n",
      "'L' sum : 472196, percentage : 0.236098\n",
      "'U' sum : 64, percentage : 3.2e-05\n"
     ]
    }
   ],
   "source": [
    "# The Duration column has an extra category that is not mentioned in the metadata, but is only present for less than 1% of the time\n",
    "print(f\"'F' sum : {house_df['Duration'].value_counts()[0]}, percentage : {(house_df['Duration'].value_counts()[0])/(house_df['Duration'].value_counts().sum())}\")\n",
    "print(f\"'L' sum : {house_df['Duration'].value_counts()[1]}, percentage : {(house_df['Duration'].value_counts()[1])/(house_df['Duration'].value_counts().sum())}\")\n",
    "print(f\"'U' sum : {house_df['Duration'].value_counts()[2]}, percentage : {(house_df['Duration'].value_counts()[2])/(house_df['Duration'].value_counts().sum())}\")"
   ]
  },
  {
   "cell_type": "code",
   "execution_count": 15,
   "id": "19ee43c5-18ee-420f-bfc0-e89f99c288aa",
   "metadata": {},
   "outputs": [
    {
     "name": "stdout",
     "output_type": "stream",
     "text": [
      "Number of unique values in Town/City : 1163\n",
      "Number of unique values in District : 451\n",
      "Number of unique values in County : 127\n"
     ]
    }
   ],
   "source": [
    "# Checking the number of unique values for the non categorical columns\n",
    "print(f\"Number of unique values in Town/City : {house_df['Town/City'].nunique()}\")\n",
    "print(f\"Number of unique values in District : {house_df['District'].nunique()}\")\n",
    "print(f\"Number of unique values in County : {house_df['County'].nunique()}\")"
   ]
  },
  {
   "cell_type": "markdown",
   "id": "c37c4946-55b7-4992-8c1c-1bacc866e72e",
   "metadata": {},
   "source": [
    "## Checking for nulls"
   ]
  },
  {
   "cell_type": "code",
   "execution_count": 16,
   "id": "9a117b30-8c58-493d-b01e-80c0fd5a0b08",
   "metadata": {},
   "outputs": [],
   "source": [
    "def null_vals(dataframe):\n",
    "    '''function to show both number of nulls and the percentage of nulls in the whole column'''\n",
    "    null_vals = dataframe.isnull().sum() ## How many nulls in each column\n",
    "    total_cnt = len(dataframe) ## Total entries in the dataframe\n",
    "    null_vals = pd.DataFrame(null_vals,columns=['null']) ## Put the number of nulls in a single dataframe\n",
    "    null_vals['percent'] = round((null_vals['null']/total_cnt)*100,3) ## Round how many nulls are there, as %, of the df\n",
    "    \n",
    "    return null_vals.sort_values('percent', ascending=False)"
   ]
  },
  {
   "cell_type": "code",
   "execution_count": 17,
   "id": "9780b3f2-9c63-4b7c-b28e-47ca57d691d2",
   "metadata": {},
   "outputs": [
    {
     "data": {
      "text/html": [
       "<div>\n",
       "<style scoped>\n",
       "    .dataframe tbody tr th:only-of-type {\n",
       "        vertical-align: middle;\n",
       "    }\n",
       "\n",
       "    .dataframe tbody tr th {\n",
       "        vertical-align: top;\n",
       "    }\n",
       "\n",
       "    .dataframe thead th {\n",
       "        text-align: right;\n",
       "    }\n",
       "</style>\n",
       "<table border=\"1\" class=\"dataframe\">\n",
       "  <thead>\n",
       "    <tr style=\"text-align: right;\">\n",
       "      <th></th>\n",
       "      <th>null</th>\n",
       "      <th>percent</th>\n",
       "    </tr>\n",
       "  </thead>\n",
       "  <tbody>\n",
       "    <tr>\n",
       "      <th>Transaction unique identifier</th>\n",
       "      <td>0</td>\n",
       "      <td>0.0</td>\n",
       "    </tr>\n",
       "    <tr>\n",
       "      <th>Price</th>\n",
       "      <td>0</td>\n",
       "      <td>0.0</td>\n",
       "    </tr>\n",
       "    <tr>\n",
       "      <th>Date of Transfer</th>\n",
       "      <td>0</td>\n",
       "      <td>0.0</td>\n",
       "    </tr>\n",
       "    <tr>\n",
       "      <th>Property Type</th>\n",
       "      <td>0</td>\n",
       "      <td>0.0</td>\n",
       "    </tr>\n",
       "    <tr>\n",
       "      <th>Old/New</th>\n",
       "      <td>0</td>\n",
       "      <td>0.0</td>\n",
       "    </tr>\n",
       "    <tr>\n",
       "      <th>Duration</th>\n",
       "      <td>0</td>\n",
       "      <td>0.0</td>\n",
       "    </tr>\n",
       "    <tr>\n",
       "      <th>Town/City</th>\n",
       "      <td>0</td>\n",
       "      <td>0.0</td>\n",
       "    </tr>\n",
       "    <tr>\n",
       "      <th>District</th>\n",
       "      <td>0</td>\n",
       "      <td>0.0</td>\n",
       "    </tr>\n",
       "    <tr>\n",
       "      <th>County</th>\n",
       "      <td>0</td>\n",
       "      <td>0.0</td>\n",
       "    </tr>\n",
       "    <tr>\n",
       "      <th>PPDCategory Type</th>\n",
       "      <td>0</td>\n",
       "      <td>0.0</td>\n",
       "    </tr>\n",
       "    <tr>\n",
       "      <th>Record Status - monthly file only</th>\n",
       "      <td>0</td>\n",
       "      <td>0.0</td>\n",
       "    </tr>\n",
       "  </tbody>\n",
       "</table>\n",
       "</div>"
      ],
      "text/plain": [
       "                                   null  percent\n",
       "Transaction unique identifier         0      0.0\n",
       "Price                                 0      0.0\n",
       "Date of Transfer                      0      0.0\n",
       "Property Type                         0      0.0\n",
       "Old/New                               0      0.0\n",
       "Duration                              0      0.0\n",
       "Town/City                             0      0.0\n",
       "District                              0      0.0\n",
       "County                                0      0.0\n",
       "PPDCategory Type                      0      0.0\n",
       "Record Status - monthly file only     0      0.0"
      ]
     },
     "execution_count": 17,
     "metadata": {},
     "output_type": "execute_result"
    }
   ],
   "source": [
    "null_vals(house_df)"
   ]
  },
  {
   "cell_type": "markdown",
   "id": "2c51e590-560b-47c8-83dd-32ad6e866639",
   "metadata": {},
   "source": [
    "For now, since there are no nulls, there is no mention of 'U' in the metadata for the Duration column and it's apperance is less than 1 %, I will be dropping it from the dataframe."
   ]
  },
  {
   "cell_type": "code",
   "execution_count": 18,
   "id": "b0c93176-c720-4c82-9896-2bcf989c3e36",
   "metadata": {},
   "outputs": [],
   "source": [
    "house_df = house_df.loc[house_df['Duration'] != 'U', : ]"
   ]
  },
  {
   "cell_type": "code",
   "execution_count": 19,
   "id": "032bbb30-4e76-47b6-b763-2f55c6df0bba",
   "metadata": {},
   "outputs": [
    {
     "data": {
      "text/plain": [
       "(1999936, 11)"
      ]
     },
     "execution_count": 19,
     "metadata": {},
     "output_type": "execute_result"
    }
   ],
   "source": [
    "house_df.shape"
   ]
  },
  {
   "cell_type": "markdown",
   "id": "9732ebea-d7d1-4477-86da-07ec14247bfb",
   "metadata": {},
   "source": [
    "## Encoding\n",
    "\n",
    "Exploring potential encoding that will be used later for the feature enginerring when train test splitting"
   ]
  },
  {
   "cell_type": "code",
   "execution_count": 20,
   "id": "cd2491dd-fca1-40b9-b05a-c155db2f0a4f",
   "metadata": {},
   "outputs": [
    {
     "data": {
      "text/plain": [
       "Index(['Transaction unique identifier', 'Price', 'Date of Transfer',\n",
       "       'Property Type', 'Old/New', 'Duration', 'Town/City', 'District',\n",
       "       'County', 'PPDCategory Type', 'Record Status - monthly file only'],\n",
       "      dtype='object')"
      ]
     },
     "execution_count": 20,
     "metadata": {},
     "output_type": "execute_result"
    }
   ],
   "source": [
    "house_df.columns"
   ]
  },
  {
   "cell_type": "code",
   "execution_count": 21,
   "id": "f8b7ca5d-6ab5-48ae-b363-9a7fe94cfb87",
   "metadata": {},
   "outputs": [],
   "source": [
    "#One Hot- Encoding the categorical columns\n",
    "house_df_ohe = pd.get_dummies(data=house_df,                 # Select data to dummy\n",
    "                    columns=['Property Type', 'Old/New', 'Duration','PPDCategory Type', 'Record Status - monthly file only'],# Which columns to OHE\n",
    "                    prefix = None,               # Wish to add a prefix to the results?\n",
    "                    drop_first = False,          # Want to drop the first dimension?\n",
    "                    dtype = int)                 # What's the desired data type of the result?\n"
   ]
  },
  {
   "cell_type": "markdown",
   "id": "7c542366-263e-407b-b638-613a9a5a1ad5",
   "metadata": {},
   "source": [
    "One Hot Encoding will be used for categorical coumns.\n",
    "\n",
    "With the precense of extra columns, to maximise effeciency, during feature engineering, the drop_first parameter will be True."
   ]
  },
  {
   "cell_type": "code",
   "execution_count": 22,
   "id": "364284b3-00c6-409b-b477-31fdc20b3c31",
   "metadata": {},
   "outputs": [
    {
     "data": {
      "text/html": [
       "<div>\n",
       "<style scoped>\n",
       "    .dataframe tbody tr th:only-of-type {\n",
       "        vertical-align: middle;\n",
       "    }\n",
       "\n",
       "    .dataframe tbody tr th {\n",
       "        vertical-align: top;\n",
       "    }\n",
       "\n",
       "    .dataframe thead th {\n",
       "        text-align: right;\n",
       "    }\n",
       "</style>\n",
       "<table border=\"1\" class=\"dataframe\">\n",
       "  <thead>\n",
       "    <tr style=\"text-align: right;\">\n",
       "      <th></th>\n",
       "      <th>Transaction unique identifier</th>\n",
       "      <th>Price</th>\n",
       "      <th>Date of Transfer</th>\n",
       "      <th>Town/City</th>\n",
       "      <th>District</th>\n",
       "      <th>County</th>\n",
       "      <th>Property Type_D</th>\n",
       "      <th>Property Type_F</th>\n",
       "      <th>Property Type_O</th>\n",
       "      <th>Property Type_S</th>\n",
       "      <th>Property Type_T</th>\n",
       "      <th>Old/New_N</th>\n",
       "      <th>Old/New_Y</th>\n",
       "      <th>Duration_F</th>\n",
       "      <th>Duration_L</th>\n",
       "      <th>PPDCategory Type_A</th>\n",
       "      <th>PPDCategory Type_B</th>\n",
       "      <th>Record Status - monthly file only_A</th>\n",
       "    </tr>\n",
       "  </thead>\n",
       "  <tbody>\n",
       "    <tr>\n",
       "      <th>0</th>\n",
       "      <td>{AB69522A-300A-4122-B95B-DEF700873018}</td>\n",
       "      <td>50500</td>\n",
       "      <td>1998-06-12</td>\n",
       "      <td>TAMWORTH</td>\n",
       "      <td>TAMWORTH</td>\n",
       "      <td>STAFFORDSHIRE</td>\n",
       "      <td>0</td>\n",
       "      <td>0</td>\n",
       "      <td>0</td>\n",
       "      <td>1</td>\n",
       "      <td>0</td>\n",
       "      <td>1</td>\n",
       "      <td>0</td>\n",
       "      <td>0</td>\n",
       "      <td>1</td>\n",
       "      <td>1</td>\n",
       "      <td>0</td>\n",
       "      <td>1</td>\n",
       "    </tr>\n",
       "    <tr>\n",
       "      <th>1</th>\n",
       "      <td>{AA9CF0FB-E7BF-4CD6-9E9C-75FD65E58524}</td>\n",
       "      <td>66500</td>\n",
       "      <td>2001-10-31</td>\n",
       "      <td>MARKET HARBOROUGH</td>\n",
       "      <td>HARBOROUGH</td>\n",
       "      <td>LEICESTERSHIRE</td>\n",
       "      <td>0</td>\n",
       "      <td>0</td>\n",
       "      <td>0</td>\n",
       "      <td>1</td>\n",
       "      <td>0</td>\n",
       "      <td>1</td>\n",
       "      <td>0</td>\n",
       "      <td>1</td>\n",
       "      <td>0</td>\n",
       "      <td>1</td>\n",
       "      <td>0</td>\n",
       "      <td>1</td>\n",
       "    </tr>\n",
       "    <tr>\n",
       "      <th>2</th>\n",
       "      <td>{6BDF5B7F-D4B9-4758-9963-696F028752A4}</td>\n",
       "      <td>15000</td>\n",
       "      <td>2000-09-01</td>\n",
       "      <td>STANLEY</td>\n",
       "      <td>DERWENTSIDE</td>\n",
       "      <td>DURHAM</td>\n",
       "      <td>0</td>\n",
       "      <td>0</td>\n",
       "      <td>0</td>\n",
       "      <td>0</td>\n",
       "      <td>1</td>\n",
       "      <td>1</td>\n",
       "      <td>0</td>\n",
       "      <td>1</td>\n",
       "      <td>0</td>\n",
       "      <td>1</td>\n",
       "      <td>0</td>\n",
       "      <td>1</td>\n",
       "    </tr>\n",
       "    <tr>\n",
       "      <th>3</th>\n",
       "      <td>{6CA43CD3-85D2-4519-8EE2-C2B1AB4F843F}</td>\n",
       "      <td>189952</td>\n",
       "      <td>2002-12-20</td>\n",
       "      <td>NORWICH</td>\n",
       "      <td>SOUTH NORFOLK</td>\n",
       "      <td>NORFOLK</td>\n",
       "      <td>1</td>\n",
       "      <td>0</td>\n",
       "      <td>0</td>\n",
       "      <td>0</td>\n",
       "      <td>0</td>\n",
       "      <td>0</td>\n",
       "      <td>1</td>\n",
       "      <td>1</td>\n",
       "      <td>0</td>\n",
       "      <td>1</td>\n",
       "      <td>0</td>\n",
       "      <td>1</td>\n",
       "    </tr>\n",
       "    <tr>\n",
       "      <th>4</th>\n",
       "      <td>{4042A5EF-C662-43CE-996F-F5D7A54BC03E}</td>\n",
       "      <td>77300</td>\n",
       "      <td>1997-06-27</td>\n",
       "      <td>CAMBRIDGE</td>\n",
       "      <td>CAMBRIDGE</td>\n",
       "      <td>CAMBRIDGESHIRE</td>\n",
       "      <td>0</td>\n",
       "      <td>0</td>\n",
       "      <td>0</td>\n",
       "      <td>0</td>\n",
       "      <td>1</td>\n",
       "      <td>1</td>\n",
       "      <td>0</td>\n",
       "      <td>1</td>\n",
       "      <td>0</td>\n",
       "      <td>1</td>\n",
       "      <td>0</td>\n",
       "      <td>1</td>\n",
       "    </tr>\n",
       "  </tbody>\n",
       "</table>\n",
       "</div>"
      ],
      "text/plain": [
       "            Transaction unique identifier   Price Date of Transfer  \\\n",
       "0  {AB69522A-300A-4122-B95B-DEF700873018}   50500       1998-06-12   \n",
       "1  {AA9CF0FB-E7BF-4CD6-9E9C-75FD65E58524}   66500       2001-10-31   \n",
       "2  {6BDF5B7F-D4B9-4758-9963-696F028752A4}   15000       2000-09-01   \n",
       "3  {6CA43CD3-85D2-4519-8EE2-C2B1AB4F843F}  189952       2002-12-20   \n",
       "4  {4042A5EF-C662-43CE-996F-F5D7A54BC03E}   77300       1997-06-27   \n",
       "\n",
       "           Town/City       District          County  Property Type_D  \\\n",
       "0           TAMWORTH       TAMWORTH   STAFFORDSHIRE                0   \n",
       "1  MARKET HARBOROUGH     HARBOROUGH  LEICESTERSHIRE                0   \n",
       "2            STANLEY    DERWENTSIDE          DURHAM                0   \n",
       "3            NORWICH  SOUTH NORFOLK         NORFOLK                1   \n",
       "4          CAMBRIDGE      CAMBRIDGE  CAMBRIDGESHIRE                0   \n",
       "\n",
       "   Property Type_F  Property Type_O  Property Type_S  Property Type_T  \\\n",
       "0                0                0                1                0   \n",
       "1                0                0                1                0   \n",
       "2                0                0                0                1   \n",
       "3                0                0                0                0   \n",
       "4                0                0                0                1   \n",
       "\n",
       "   Old/New_N  Old/New_Y  Duration_F  Duration_L  PPDCategory Type_A  \\\n",
       "0          1          0           0           1                   1   \n",
       "1          1          0           1           0                   1   \n",
       "2          1          0           1           0                   1   \n",
       "3          0          1           1           0                   1   \n",
       "4          1          0           1           0                   1   \n",
       "\n",
       "   PPDCategory Type_B  Record Status - monthly file only_A  \n",
       "0                   0                                    1  \n",
       "1                   0                                    1  \n",
       "2                   0                                    1  \n",
       "3                   0                                    1  \n",
       "4                   0                                    1  "
      ]
     },
     "execution_count": 22,
     "metadata": {},
     "output_type": "execute_result"
    }
   ],
   "source": [
    "# The OHE data\n",
    "house_df_ohe.head()"
   ]
  },
  {
   "cell_type": "markdown",
   "id": "8b98edfa-927c-41c2-a902-4334a4517a04",
   "metadata": {},
   "source": [
    "'Town/City', 'District', 'County' columns have too many entries to use OHE. Since making them categorical numerical values will cause certain models treat these categories as values, these columns will not be used in Regression models but will be used in classification models."
   ]
  },
  {
   "cell_type": "code",
   "execution_count": 23,
   "id": "24d97866-592a-48ac-99f0-dbfe23754651",
   "metadata": {},
   "outputs": [],
   "source": [
    "# label encode\n",
    "houes_location_label = pd.DataFrame()                   # Create an empty dataframe to start\n",
    "cols_to_label = ['Town/City', 'District', 'County']      # Select columns to encode\n",
    "\n",
    "for col in cols_to_label:                   # Loop through chosen columns\n",
    "    houes_location_label[col] = house_df[col].astype('category').cat.codes # Label encode each column\n",
    "    \n",
    "houes_location_label['Price'] = house_df['Price']"
   ]
  },
  {
   "cell_type": "code",
   "execution_count": 24,
   "id": "a0f0fae6-b921-4df1-8b20-4e71cc7c5556",
   "metadata": {},
   "outputs": [
    {
     "data": {
      "text/html": [
       "<div>\n",
       "<style scoped>\n",
       "    .dataframe tbody tr th:only-of-type {\n",
       "        vertical-align: middle;\n",
       "    }\n",
       "\n",
       "    .dataframe tbody tr th {\n",
       "        vertical-align: top;\n",
       "    }\n",
       "\n",
       "    .dataframe thead th {\n",
       "        text-align: right;\n",
       "    }\n",
       "</style>\n",
       "<table border=\"1\" class=\"dataframe\">\n",
       "  <thead>\n",
       "    <tr style=\"text-align: right;\">\n",
       "      <th></th>\n",
       "      <th>Town/City</th>\n",
       "      <th>District</th>\n",
       "      <th>County</th>\n",
       "      <th>Price</th>\n",
       "    </tr>\n",
       "  </thead>\n",
       "  <tbody>\n",
       "    <tr>\n",
       "      <th>0</th>\n",
       "      <td>996</td>\n",
       "      <td>380</td>\n",
       "      <td>100</td>\n",
       "      <td>50500</td>\n",
       "    </tr>\n",
       "    <tr>\n",
       "      <th>1</th>\n",
       "      <td>657</td>\n",
       "      <td>169</td>\n",
       "      <td>63</td>\n",
       "      <td>66500</td>\n",
       "    </tr>\n",
       "    <tr>\n",
       "      <th>2</th>\n",
       "      <td>956</td>\n",
       "      <td>117</td>\n",
       "      <td>39</td>\n",
       "      <td>15000</td>\n",
       "    </tr>\n",
       "    <tr>\n",
       "      <th>3</th>\n",
       "      <td>736</td>\n",
       "      <td>345</td>\n",
       "      <td>75</td>\n",
       "      <td>189952</td>\n",
       "    </tr>\n",
       "    <tr>\n",
       "      <th>4</th>\n",
       "      <td>208</td>\n",
       "      <td>58</td>\n",
       "      <td>14</td>\n",
       "      <td>77300</td>\n",
       "    </tr>\n",
       "  </tbody>\n",
       "</table>\n",
       "</div>"
      ],
      "text/plain": [
       "   Town/City  District  County   Price\n",
       "0        996       380     100   50500\n",
       "1        657       169      63   66500\n",
       "2        956       117      39   15000\n",
       "3        736       345      75  189952\n",
       "4        208        58      14   77300"
      ]
     },
     "execution_count": 24,
     "metadata": {},
     "output_type": "execute_result"
    }
   ],
   "source": [
    "# The labelled data\n",
    "houes_location_label.head()"
   ]
  },
  {
   "cell_type": "markdown",
   "id": "31751c12-2d9f-4c66-8712-e88425b7f1f5",
   "metadata": {
    "tags": []
   },
   "source": [
    "## Feature Selection "
   ]
  },
  {
   "cell_type": "markdown",
   "id": "3fd9f044-17ef-4626-a343-b234ac5e99ec",
   "metadata": {},
   "source": [
    "### Using a Heatmap to check for correlations "
   ]
  },
  {
   "cell_type": "code",
   "execution_count": 25,
   "id": "fc2c3dd8-2e45-431d-b562-8d2638561673",
   "metadata": {},
   "outputs": [
    {
     "data": {
      "image/png": "[encoded data removed]",
      "text/plain": [
       "<Figure size 1080x1080 with 2 Axes>"
      ]
     },
     "metadata": {
      "needs_background": "light"
     },
     "output_type": "display_data"
    }
   ],
   "source": [
    "plt.figure(figsize = (15,15))\n",
    "\n",
    "sns.heatmap(house_df_ohe.corr(), \n",
    "            annot=True,\n",
    "            fmt='.3f',\n",
    "            cmap='RdBu_r',\n",
    "            mask=np.triu(house_df_ohe.corr()))\n",
    "plt.show()"
   ]
  },
  {
   "cell_type": "code",
   "execution_count": 26,
   "id": "8bf54115-06fd-46da-914d-cc92c6777ece",
   "metadata": {},
   "outputs": [
    {
     "data": {
      "text/plain": [
       "Index(['Transaction unique identifier', 'Price', 'Date of Transfer',\n",
       "       'Town/City', 'District', 'County', 'Property Type_D', 'Property Type_F',\n",
       "       'Property Type_O', 'Property Type_S', 'Property Type_T', 'Old/New_N',\n",
       "       'Old/New_Y', 'Duration_F', 'Duration_L', 'PPDCategory Type_A',\n",
       "       'PPDCategory Type_B', 'Record Status - monthly file only_A'],\n",
       "      dtype='object')"
      ]
     },
     "execution_count": 26,
     "metadata": {},
     "output_type": "execute_result"
    }
   ],
   "source": [
    "house_df_ohe.columns"
   ]
  },
  {
   "cell_type": "markdown",
   "id": "0ee39c86-0999-441b-a9ff-5c92513e4730",
   "metadata": {},
   "source": [
    "These correlations show the importance of using the drop_first parameter in OHE. There will be alot of colinearity without it.\n",
    "\n",
    "Using this correlations will help in figuring out which columns will enhance the machine learning model by knowing which columns to keep."
   ]
  },
  {
   "cell_type": "code",
   "execution_count": 27,
   "id": "ef178212-9370-4439-934a-a1f115bda760",
   "metadata": {},
   "outputs": [
    {
     "name": "stdout",
     "output_type": "stream",
     "text": [
      "Price has strong correlation with : []\n",
      "Property Type_D has strong correlation with : ['Property Type_F - -0.26', 'Property Type_S - -0.34', 'Property Type_T - -0.36', 'Duration_F - 0.25', 'Duration_L - -0.25']\n",
      "Property Type_F has strong correlation with : ['Property Type_D - -0.26', 'Property Type_S - -0.29', 'Property Type_T - -0.31', 'Duration_F - -0.82', 'Duration_L - 0.82']\n",
      "Property Type_O has strong correlation with : ['PPDCategory Type_A - -0.53', 'PPDCategory Type_B - 0.53']\n",
      "Property Type_S has strong correlation with : ['Property Type_D - -0.34', 'Property Type_F - -0.29', 'Property Type_T - -0.41']\n",
      "Property Type_T has strong correlation with : ['Property Type_D - -0.36', 'Property Type_F - -0.31', 'Property Type_S - -0.41']\n",
      "Old/New_N has strong correlation with : ['Old/New_Y - -1.0']\n",
      "Old/New_Y has strong correlation with : ['Old/New_N - -1.0']\n",
      "Duration_F has strong correlation with : ['Property Type_D - 0.25', 'Property Type_F - -0.82', 'Duration_L - -1.0']\n",
      "Duration_L has strong correlation with : ['Property Type_D - -0.25', 'Property Type_F - 0.82', 'Duration_F - -1.0']\n",
      "PPDCategory Type_A has strong correlation with : ['Property Type_O - -0.53', 'PPDCategory Type_B - -1.0']\n",
      "PPDCategory Type_B has strong correlation with : ['Property Type_O - 0.53', 'PPDCategory Type_A - -1.0']\n",
      "Record Status - monthly file only_A has strong correlation with : []\n"
     ]
    }
   ],
   "source": [
    "#house_df_ohe[['Price', 'Property Type_D']].corr().iloc[0,1]\n",
    "columns_df = ['Price', 'Property Type_D', 'Property Type_F',\n",
    "       'Property Type_O', 'Property Type_S', 'Property Type_T', 'Old/New_N',\n",
    "       'Old/New_Y', 'Duration_F', 'Duration_L', 'PPDCategory Type_A',\n",
    "       'PPDCategory Type_B', 'Record Status - monthly file only_A']\n",
    "\n",
    "for i in columns_df:\n",
    "    cor_list = []\n",
    "    for j in columns_df:\n",
    "        cor = house_df_ohe[i].corr(house_df_ohe[j])\n",
    "        if i != j and (cor > 0.25 or cor < -0.25):\n",
    "            cor_list.append(f'{j} - {round(cor,2)}')\n",
    "    print(f'{i} has strong correlation with : {cor_list}')\n",
    "\n",
    "#house_df_ohe.corr()"
   ]
  },
  {
   "cell_type": "code",
   "execution_count": 28,
   "id": "a4d6289f-ed2b-4f71-b83c-9fefad8ddc9d",
   "metadata": {},
   "outputs": [
    {
     "data": {
      "image/png": "[encoded data removed]",
      "text/plain": [
       "<Figure size 1080x1080 with 2 Axes>"
      ]
     },
     "metadata": {
      "needs_background": "light"
     },
     "output_type": "display_data"
    }
   ],
   "source": [
    "plt.figure(figsize = (15,15))\n",
    "\n",
    "sns.heatmap(houes_location_label.corr(), \n",
    "            annot=True,\n",
    "            fmt='.3f',\n",
    "            cmap='RdBu_r',\n",
    "            mask=np.triu(houes_location_label.corr()))\n",
    "plt.show()"
   ]
  },
  {
   "cell_type": "code",
   "execution_count": 29,
   "id": "abd3ef2d-67b9-4604-b595-a8c5733b7a1f",
   "metadata": {},
   "outputs": [
    {
     "name": "stdout",
     "output_type": "stream",
     "text": [
      "Town/City has strong correlation with : ['District - 0.44', 'County - 0.22']\n",
      "District has strong correlation with : ['Town/City - 0.44', 'County - 0.33']\n",
      "County has strong correlation with : ['Town/City - 0.22', 'District - 0.33']\n",
      "Price has strong correlation with : []\n"
     ]
    }
   ],
   "source": [
    "for i in houes_location_label.columns:\n",
    "    cor_list = []\n",
    "    for j in houes_location_label.columns:\n",
    "        cor = houes_location_label[i].corr(houes_location_label[j])\n",
    "        if i != j and (cor > 0.1 or cor < -0.1):\n",
    "            cor_list.append(f'{j} - {round(cor,2)}')\n",
    "    print(f'{i} has strong correlation with : {cor_list}')"
   ]
  },
  {
   "cell_type": "markdown",
   "id": "5d3b1ed8-685c-4fcf-a1f6-b7d2d42633ee",
   "metadata": {},
   "source": [
    "There are some correlations between the columns and price with some colinearity present.\n",
    "\n",
    "Due to the large number of categories in 'Town/City', 'District', 'County', they will not be one hot encoded and added as features when using Linear regression but will be used in Random Forest models and comapre to see if this the difference in RMSE makes a difference."
   ]
  },
  {
   "cell_type": "markdown",
   "id": "c0fbc7f2-bf85-41c6-8902-bf5f1a0251b3",
   "metadata": {},
   "source": [
    "### Train-Test Split"
   ]
  },
  {
   "cell_type": "code",
   "execution_count": 30,
   "id": "1889aaca-2574-482e-9eb8-05bd7489b6b5",
   "metadata": {},
   "outputs": [
    {
     "data": {
      "text/plain": [
       "Index(['Transaction unique identifier', 'Price', 'Date of Transfer',\n",
       "       'Property Type', 'Old/New', 'Duration', 'Town/City', 'District',\n",
       "       'County', 'PPDCategory Type', 'Record Status - monthly file only'],\n",
       "      dtype='object')"
      ]
     },
     "execution_count": 30,
     "metadata": {},
     "output_type": "execute_result"
    }
   ],
   "source": [
    "house_df.columns"
   ]
  },
  {
   "cell_type": "code",
   "execution_count": 31,
   "id": "958eba8f-280b-4ddc-92ae-b37df7ad8e7d",
   "metadata": {},
   "outputs": [],
   "source": [
    "#Creating the feature engineering function, to OHE, categorical columns and add a constant collumn for stats models\n",
    "\n",
    "def feature_engineering(df):\n",
    "        df = df.copy()\n",
    "        df = pd.get_dummies(df,                 # Select data to dummy\n",
    "                        columns=['Property Type', 'Old/New', 'Duration','PPDCategory Type', 'Record Status - monthly file only'],# Which columns to OHE\n",
    "                        prefix = None,               # Wish to add a prefix to the results?\n",
    "                        drop_first = True,          # Want to drop the first dimension?\n",
    "                        dtype = int)\n",
    "        df['const'] = 1.0 #adding a constant because we'll use statsmodels\n",
    "    \n",
    "        return df"
   ]
  },
  {
   "cell_type": "markdown",
   "id": "e6d7d464-a3c0-4cf2-804b-15d375d1873d",
   "metadata": {},
   "source": [
    "Due to the nature of the dataset and encoding, during splitting the dataset, there could be a mismatch in columns between the training and testing set. So using this check, it will ensure to print out a random state where the columns are equal"
   ]
  },
  {
   "cell_type": "code",
   "execution_count": 32,
   "id": "77c66ce1-d69a-4a07-a08b-bd54b535e55e",
   "metadata": {},
   "outputs": [
    {
     "name": "stdout",
     "output_type": "stream",
     "text": [
      "Matching columns found with random state 0\n"
     ]
    }
   ],
   "source": [
    "# Initialize a counter for the random state\n",
    "random_state = 0\n",
    "\n",
    "while True:\n",
    "    X = house_df.drop('Price', axis=1) # The features\n",
    "    y = house_df['Price'] # The Target\n",
    "    \n",
    "    # Perform train-test split with the current random state\n",
    "    X_train, X_test, y_train, y_test = train_test_split(X, # The features\n",
    "                                                    y, # The Target\n",
    "                                                    test_size=0.2, #what % are we dedicating to the testing set ?\n",
    "                                                    random_state=201 #Random set, the number specifies the specific ramdon shuffel\n",
    "                                                   )\n",
    "    \n",
    "    # Apply feature engineering\n",
    "    X_train_fe = feature_engineering(X_train)\n",
    "    X_test_fe = feature_engineering(X_test)\n",
    "    \n",
    "    # Check if the columns match\n",
    "    if list(X_train_fe.columns) == list(X_test_fe.columns):\n",
    "        break\n",
    "    \n",
    "    # Increment the random state\n",
    "    random_state += 1\n",
    "    \n",
    "    # A condition to avoid infinite loop\n",
    "    if random_state > 1000:\n",
    "        print(\"Couldn't find matching columns within 1000 random states.\")\n",
    "        break\n",
    "\n",
    "print(f\"Matching columns found with random state {random_state}\")"
   ]
  },
  {
   "cell_type": "markdown",
   "id": "2448c0b4-6d70-4864-a216-c5f79ace707b",
   "metadata": {},
   "source": [
    "### Train - Test Splitting process"
   ]
  },
  {
   "cell_type": "code",
   "execution_count": 33,
   "id": "4a1ab90d-dc49-442b-bc1e-5629ca49667a",
   "metadata": {},
   "outputs": [],
   "source": [
    "# The Train test splitting \n",
    "X = house_df.drop('Price', axis=1) # The features\n",
    "y = house_df['Price'] # The Target\n",
    "\n",
    "X_train, X_test, y_train, y_test = train_test_split(X, # The features\n",
    "                                                    y, # The Target\n",
    "                                                    test_size=0.2, #what % are we dedicating to the testing set ?\n",
    "                                                    random_state=0 #Random set, the number specifies the specific ramdon shuffel\n",
    "                                                   )"
   ]
  },
  {
   "cell_type": "code",
   "execution_count": 34,
   "id": "e4c6cc65-eb3f-4322-9fba-62914c07fccc",
   "metadata": {},
   "outputs": [
    {
     "name": "stdout",
     "output_type": "stream",
     "text": [
      "True\n",
      "True\n"
     ]
    }
   ],
   "source": [
    "# Check tkhat the incidies ended up the same in both sets\n",
    "print(all(X_train.index == y_train.index))\n",
    "print(all(X_test.index == y_test.index))"
   ]
  },
  {
   "cell_type": "markdown",
   "id": "2c2d468c-5dcb-49c3-880c-c06dc693f44e",
   "metadata": {},
   "source": [
    "### Feature Engineering"
   ]
  },
  {
   "cell_type": "code",
   "execution_count": 35,
   "id": "e2672849-1a9f-445f-b511-02b2f08a7e77",
   "metadata": {},
   "outputs": [],
   "source": [
    "X_train_fe = feature_engineering(X_train)\n",
    "X_test_fe = feature_engineering(X_test)"
   ]
  },
  {
   "cell_type": "code",
   "execution_count": 36,
   "id": "6be0da2b-35ac-4e61-8a65-5b126c64040f",
   "metadata": {},
   "outputs": [
    {
     "data": {
      "text/plain": [
       "True"
      ]
     },
     "execution_count": 36,
     "metadata": {},
     "output_type": "execute_result"
    }
   ],
   "source": [
    "#Another check to ensure the column are consistant\n",
    "list(X_train_fe.columns) == list(X_test_fe.columns)"
   ]
  },
  {
   "cell_type": "markdown",
   "id": "2d5de96c-8b1c-4385-b646-40665295522d",
   "metadata": {},
   "source": [
    "### Creating Models and Scores"
   ]
  },
  {
   "cell_type": "markdown",
   "id": "998a93d2-69e3-4d12-aeef-d065e980e80a",
   "metadata": {},
   "source": [
    "#### Linear Regression"
   ]
  },
  {
   "cell_type": "code",
   "execution_count": 37,
   "id": "fbc9b6c1-3d72-440c-b709-e3d621542a2a",
   "metadata": {},
   "outputs": [
    {
     "data": {
      "text/plain": [
       "Index(['Transaction unique identifier', 'Date of Transfer', 'Town/City',\n",
       "       'District', 'County', 'Property Type_F', 'Property Type_O',\n",
       "       'Property Type_S', 'Property Type_T', 'Old/New_Y', 'Duration_L',\n",
       "       'PPDCategory Type_B', 'const'],\n",
       "      dtype='object')"
      ]
     },
     "execution_count": 37,
     "metadata": {},
     "output_type": "execute_result"
    }
   ],
   "source": [
    "X_train_fe.columns"
   ]
  },
  {
   "cell_type": "code",
   "execution_count": 38,
   "id": "ac3519a2-2467-4fb4-acbf-86ff56007d9f",
   "metadata": {},
   "outputs": [],
   "source": [
    "feature_cols_lin = ['Property Type_F', 'Property Type_O',\n",
    "       'Property Type_S', 'Property Type_T', 'Old/New_Y', 'Duration_L',\n",
    "       'PPDCategory Type_B', 'const']"
   ]
  },
  {
   "cell_type": "markdown",
   "id": "20a0c1e3-986f-41aa-aff7-4626349ab508",
   "metadata": {},
   "source": [
    "This will be showing the baseline results"
   ]
  },
  {
   "cell_type": "code",
   "execution_count": 39,
   "id": "fa717b18-2ec1-4143-921a-a8bd9c678225",
   "metadata": {},
   "outputs": [
    {
     "data": {
      "text/html": [
       "<table class=\"simpletable\">\n",
       "<caption>OLS Regression Results</caption>\n",
       "<tr>\n",
       "  <th>Dep. Variable:</th>          <td>Price</td>      <th>  R-squared:         </th>  <td>   0.051</td>  \n",
       "</tr>\n",
       "<tr>\n",
       "  <th>Model:</th>                   <td>OLS</td>       <th>  Adj. R-squared:    </th>  <td>   0.051</td>  \n",
       "</tr>\n",
       "<tr>\n",
       "  <th>Method:</th>             <td>Least Squares</td>  <th>  F-statistic:       </th>  <td>1.233e+04</td> \n",
       "</tr>\n",
       "<tr>\n",
       "  <th>Date:</th>             <td>Mon, 05 Aug 2024</td> <th>  Prob (F-statistic):</th>   <td>  0.00</td>   \n",
       "</tr>\n",
       "<tr>\n",
       "  <th>Time:</th>                 <td>18:40:21</td>     <th>  Log-Likelihood:    </th> <td>-2.2864e+07</td>\n",
       "</tr>\n",
       "<tr>\n",
       "  <th>No. Observations:</th>      <td>1599948</td>     <th>  AIC:               </th>  <td>4.573e+07</td> \n",
       "</tr>\n",
       "<tr>\n",
       "  <th>Df Residuals:</th>          <td>1599940</td>     <th>  BIC:               </th>  <td>4.573e+07</td> \n",
       "</tr>\n",
       "<tr>\n",
       "  <th>Df Model:</th>              <td>     7</td>      <th>                     </th>      <td> </td>     \n",
       "</tr>\n",
       "<tr>\n",
       "  <th>Covariance Type:</th>      <td>nonrobust</td>    <th>                     </th>      <td> </td>     \n",
       "</tr>\n",
       "</table>\n",
       "<table class=\"simpletable\">\n",
       "<tr>\n",
       "           <td></td>             <th>coef</th>     <th>std err</th>      <th>t</th>      <th>P>|t|</th>  <th>[0.025</th>    <th>0.975]</th>  \n",
       "</tr>\n",
       "<tr>\n",
       "  <th>Property Type_F</th>    <td>-3.407e+04</td> <td> 1529.951</td> <td>  -22.269</td> <td> 0.000</td> <td>-3.71e+04</td> <td>-3.11e+04</td>\n",
       "</tr>\n",
       "<tr>\n",
       "  <th>Property Type_O</th>    <td> 1.016e+06</td> <td> 5481.358</td> <td>  185.355</td> <td> 0.000</td> <td> 1.01e+06</td> <td> 1.03e+06</td>\n",
       "</tr>\n",
       "<tr>\n",
       "  <th>Property Type_S</th>    <td>-1.005e+05</td> <td>  874.822</td> <td> -114.936</td> <td> 0.000</td> <td>-1.02e+05</td> <td>-9.88e+04</td>\n",
       "</tr>\n",
       "<tr>\n",
       "  <th>Property Type_T</th>    <td>-1.122e+05</td> <td>  856.571</td> <td> -130.967</td> <td> 0.000</td> <td>-1.14e+05</td> <td>-1.11e+05</td>\n",
       "</tr>\n",
       "<tr>\n",
       "  <th>Old/New_Y</th>          <td>-6273.9067</td> <td> 1033.339</td> <td>   -6.071</td> <td> 0.000</td> <td>-8299.215</td> <td>-4248.598</td>\n",
       "</tr>\n",
       "<tr>\n",
       "  <th>Duration_L</th>         <td>-4.387e+04</td> <td> 1268.122</td> <td>  -34.597</td> <td> 0.000</td> <td>-4.64e+04</td> <td>-4.14e+04</td>\n",
       "</tr>\n",
       "<tr>\n",
       "  <th>PPDCategory Type_B</th> <td> 7.814e+04</td> <td> 2936.396</td> <td>   26.612</td> <td> 0.000</td> <td> 7.24e+04</td> <td> 8.39e+04</td>\n",
       "</tr>\n",
       "<tr>\n",
       "  <th>const</th>              <td>  2.52e+05</td> <td>  661.851</td> <td>  380.770</td> <td> 0.000</td> <td> 2.51e+05</td> <td> 2.53e+05</td>\n",
       "</tr>\n",
       "</table>\n",
       "<table class=\"simpletable\">\n",
       "<tr>\n",
       "  <th>Omnibus:</th>       <td>6312042.714</td> <th>  Durbin-Watson:     </th>      <td>   2.000</td>     \n",
       "</tr>\n",
       "<tr>\n",
       "  <th>Prob(Omnibus):</th>   <td> 0.000</td>    <th>  Jarque-Bera (JB):  </th> <td>18974652226660.766</td>\n",
       "</tr>\n",
       "<tr>\n",
       "  <th>Skew:</th>            <td>97.728</td>    <th>  Prob(JB):          </th>      <td>    0.00</td>     \n",
       "</tr>\n",
       "<tr>\n",
       "  <th>Kurtosis:</th>       <td>16872.820</td>  <th>  Cond. No.          </th>      <td>    21.3</td>     \n",
       "</tr>\n",
       "</table><br/><br/>Notes:<br/>[1] Standard Errors assume that the covariance matrix of the errors is correctly specified."
      ],
      "text/plain": [
       "<class 'statsmodels.iolib.summary.Summary'>\n",
       "\"\"\"\n",
       "                            OLS Regression Results                            \n",
       "==============================================================================\n",
       "Dep. Variable:                  Price   R-squared:                       0.051\n",
       "Model:                            OLS   Adj. R-squared:                  0.051\n",
       "Method:                 Least Squares   F-statistic:                 1.233e+04\n",
       "Date:                Mon, 05 Aug 2024   Prob (F-statistic):               0.00\n",
       "Time:                        18:40:21   Log-Likelihood:            -2.2864e+07\n",
       "No. Observations:             1599948   AIC:                         4.573e+07\n",
       "Df Residuals:                 1599940   BIC:                         4.573e+07\n",
       "Df Model:                           7                                         \n",
       "Covariance Type:            nonrobust                                         \n",
       "======================================================================================\n",
       "                         coef    std err          t      P>|t|      [0.025      0.975]\n",
       "--------------------------------------------------------------------------------------\n",
       "Property Type_F    -3.407e+04   1529.951    -22.269      0.000   -3.71e+04   -3.11e+04\n",
       "Property Type_O     1.016e+06   5481.358    185.355      0.000    1.01e+06    1.03e+06\n",
       "Property Type_S    -1.005e+05    874.822   -114.936      0.000   -1.02e+05   -9.88e+04\n",
       "Property Type_T    -1.122e+05    856.571   -130.967      0.000   -1.14e+05   -1.11e+05\n",
       "Old/New_Y          -6273.9067   1033.339     -6.071      0.000   -8299.215   -4248.598\n",
       "Duration_L         -4.387e+04   1268.122    -34.597      0.000   -4.64e+04   -4.14e+04\n",
       "PPDCategory Type_B  7.814e+04   2936.396     26.612      0.000    7.24e+04    8.39e+04\n",
       "const                2.52e+05    661.851    380.770      0.000    2.51e+05    2.53e+05\n",
       "==============================================================================\n",
       "Omnibus:                  6312042.714   Durbin-Watson:                   2.000\n",
       "Prob(Omnibus):                  0.000   Jarque-Bera (JB):   18974652226660.766\n",
       "Skew:                          97.728   Prob(JB):                         0.00\n",
       "Kurtosis:                   16872.820   Cond. No.                         21.3\n",
       "==============================================================================\n",
       "\n",
       "Notes:\n",
       "[1] Standard Errors assume that the covariance matrix of the errors is correctly specified.\n",
       "\"\"\""
      ]
     },
     "execution_count": 39,
     "metadata": {},
     "output_type": "execute_result"
    }
   ],
   "source": [
    "## create and train an OLS linear regression\n",
    "lin_reg = sm.OLS(y_train, X_train_fe[feature_cols_lin]) #creating the model (#target, features)\n",
    "lin_results = lin_reg.fit() #fit our model and store it \n",
    "lin_results.summary() # take a look at out results"
   ]
  },
  {
   "cell_type": "code",
   "execution_count": 40,
   "id": "a00443e1-a757-44de-b75a-46171255d432",
   "metadata": {},
   "outputs": [
    {
     "name": "stdout",
     "output_type": "stream",
     "text": [
      "389071.93337259075\n"
     ]
    }
   ],
   "source": [
    "## What about the actual performance?\n",
    "\n",
    "#get out pridictions and store them in y_pred\n",
    "y_pred = lin_results.predict(X_train_fe[feature_cols_lin])\n",
    "\n",
    "#get the RMSE od our model: y_train(real) against y_pred (predicted)\n",
    "rmse = statsmodels.tools.eval_measures.rmse(y_train, y_pred) #(real value, predicted)\n",
    "\n",
    "#lets print out the RMSE\n",
    "print(rmse)"
   ]
  },
  {
   "cell_type": "code",
   "execution_count": 41,
   "id": "6caeb752-1c42-45d4-807a-82497cc31ff8",
   "metadata": {},
   "outputs": [
    {
     "name": "stdout",
     "output_type": "stream",
     "text": [
      "377828.9281406184\n"
     ]
    }
   ],
   "source": [
    "#lets predict on test as well\n",
    "#y_test_pred holds the prediction on the testing set\n",
    "y_test_pred = lin_results.predict(X_test_fe[feature_cols_lin])\n",
    "\n",
    "#get the testing rmse\n",
    "rmse_test = statsmodels.tools.eval_measures.rmse(y_test, y_test_pred)\n",
    "\n",
    "#print it out\n",
    "print(rmse_test)"
   ]
  },
  {
   "cell_type": "markdown",
   "id": "f6134db3-72d8-4f9a-b0a6-be7b6a572f54",
   "metadata": {},
   "source": [
    "We will be looking at if it is possible to improve the rmse score\n",
    "\n",
    "We will be removing columns that have strong correlation betweent each other"
   ]
  },
  {
   "cell_type": "code",
   "execution_count": 42,
   "id": "685f0a72-6699-4adf-871e-005f5ef27aa3",
   "metadata": {},
   "outputs": [
    {
     "name": "stdout",
     "output_type": "stream",
     "text": [
      "{'Property Type_F': [{'Property Type_S'}, {'Property Type_T'}, {'Duration_L'}], 'Property Type_O': [{'PPDCategory Type_B'}], 'Property Type_S': [{'Property Type_F'}, {'Property Type_T'}], 'Property Type_T': [{'Property Type_F'}, {'Property Type_S'}], 'Old/New_Y': [], 'Duration_L': [{'Property Type_F'}], 'PPDCategory Type_B': [{'Property Type_O'}], 'const': []}\n"
     ]
    }
   ],
   "source": [
    "lin_columns_df = ['Property Type_F', 'Property Type_O',\n",
    "       'Property Type_S', 'Property Type_T', 'Old/New_Y', 'Duration_L',\n",
    "       'PPDCategory Type_B', 'const']\n",
    "lin_cor_dict = {}\n",
    "\n",
    "for i in lin_columns_df:\n",
    "    lin_cor_list = []\n",
    "    for j in lin_columns_df:\n",
    "        lin_cor = X_train_fe[i].corr(X_train_fe[j])\n",
    "        if i != j and (lin_cor > 0.25 or lin_cor < -0.25):\n",
    "            lin_cor_list.append({j})\n",
    "    lin_cor_dict[i] = lin_cor_list\n",
    "    \n",
    "print(lin_cor_dict)\n"
   ]
  },
  {
   "cell_type": "code",
   "execution_count": 43,
   "id": "87b2915a-39ee-4e5e-a4dd-24d77e4fb8d1",
   "metadata": {},
   "outputs": [],
   "source": [
    "lin_columns_df_2 = ['Property Type_F', 'Property Type_O',\n",
    "        'Old/New_Y', 'const']\n",
    "def lin_reg_func(columns, rmse_score, rmse_test_score):\n",
    "    lin_reg_2 = sm.OLS(y_train, X_train_fe[columns]) #creating the model (#target, features)\n",
    "    lin_results_2 = lin_reg_2.fit() #fit our model and store it \n",
    "    print(lin_results_2.summary()) # take a look at out results\n",
    "\n",
    "    ## What about the actual performance?\n",
    "\n",
    "    #get out pridictions and store them in y_pred\n",
    "    y_pred_2 = lin_results_2.predict(X_train_fe[columns])\n",
    "\n",
    "    #get the RMSE od our model: y_train(real) against y_pred (predicted)\n",
    "    rmse_2 = statsmodels.tools.eval_measures.rmse(y_train, y_pred_2) #(real value, predicted)\n",
    "\n",
    "    def better_score(score_1, score_2):\n",
    "        if score_1 > score_2:\n",
    "            return 'Better Score'\n",
    "        elif score_1 == score_2:\n",
    "            return 'Same Score'\n",
    "        else:\n",
    "            return 'Worse Score'\n",
    "\n",
    "    #lets predict on test as well\n",
    "    #y_test_pred holds the prediction on the testing set\n",
    "    y_test_pred_2 = lin_results_2.predict(X_test_fe[columns])\n",
    "\n",
    "    #get the testing rmse\n",
    "    rmse_test_2 = statsmodels.tools.eval_measures.rmse(y_test, y_test_pred_2)\n",
    "\n",
    "    #lets print out the RMSE scores\n",
    "    print(f' train_2 : {rmse_2}, train : {rmse_score}, {better_score(rmse_score,rmse_2)}')\n",
    "    print(f' test_2 : {rmse_test_2}, test : {rmse_test_score}, {better_score(rmse_test_score,rmse_test_2)}')"
   ]
  },
  {
   "cell_type": "code",
   "execution_count": 44,
   "id": "bc090740-4575-49c8-9e6f-83c6a065adf9",
   "metadata": {},
   "outputs": [
    {
     "name": "stdout",
     "output_type": "stream",
     "text": [
      "                            OLS Regression Results                            \n",
      "==============================================================================\n",
      "Dep. Variable:                  Price   R-squared:                       0.038\n",
      "Model:                            OLS   Adj. R-squared:                  0.038\n",
      "Method:                 Least Squares   F-statistic:                 2.105e+04\n",
      "Date:                Mon, 05 Aug 2024   Prob (F-statistic):               0.00\n",
      "Time:                        18:40:24   Log-Likelihood:            -2.2875e+07\n",
      "No. Observations:             1599948   AIC:                         4.575e+07\n",
      "Df Residuals:                 1599944   BIC:                         4.575e+07\n",
      "Df Model:                           3                                         \n",
      "Covariance Type:            nonrobust                                         \n",
      "===================================================================================\n",
      "                      coef    std err          t      P>|t|      [0.025      0.975]\n",
      "-----------------------------------------------------------------------------------\n",
      "Property Type_F  1982.7917    809.844      2.448      0.014     395.526    3570.057\n",
      "Property Type_O  1.163e+06   4629.908    251.102      0.000    1.15e+06    1.17e+06\n",
      "Old/New_Y        1.081e+04   1032.362     10.473      0.000    8788.640    1.28e+04\n",
      "const            1.716e+05    354.239    484.424      0.000    1.71e+05    1.72e+05\n",
      "==============================================================================\n",
      "Omnibus:                  6271518.018   Durbin-Watson:                   1.999\n",
      "Prob(Omnibus):                  0.000   Jarque-Bera (JB):   17947839497574.160\n",
      "Skew:                          95.752   Prob(JB):                         0.00\n",
      "Kurtosis:                   16410.001   Cond. No.                         15.3\n",
      "==============================================================================\n",
      "\n",
      "Notes:\n",
      "[1] Standard Errors assume that the covariance matrix of the errors is correctly specified.\n",
      " train_2 : 391769.28979225556, train : 389071.93337259075, Worse Score\n",
      " test_2 : 380572.17843168316, test : 377828.9281406184, Worse Score\n"
     ]
    }
   ],
   "source": [
    "lin_reg_func(lin_columns_df_2, rmse, rmse_test) # correlation edits compare with baseline score"
   ]
  },
  {
   "cell_type": "markdown",
   "id": "547e9dc9-274e-4af1-92fd-c289a23a9e00",
   "metadata": {},
   "source": [
    "We see that reducing the columns based on correlation with each other did not improve the score \n",
    "\n",
    "We will look at only using property columns"
   ]
  },
  {
   "cell_type": "code",
   "execution_count": 45,
   "id": "d28cd511-e93f-45dd-acf7-23be4d967ae6",
   "metadata": {},
   "outputs": [
    {
     "name": "stdout",
     "output_type": "stream",
     "text": [
      "                            OLS Regression Results                            \n",
      "==============================================================================\n",
      "Dep. Variable:                  Price   R-squared:                       0.050\n",
      "Model:                            OLS   Adj. R-squared:                  0.050\n",
      "Method:                 Least Squares   F-statistic:                 2.106e+04\n",
      "Date:                Mon, 05 Aug 2024   Prob (F-statistic):               0.00\n",
      "Time:                        18:40:25   Log-Likelihood:            -2.2865e+07\n",
      "No. Observations:             1599948   AIC:                         4.573e+07\n",
      "Df Residuals:                 1599943   BIC:                         4.573e+07\n",
      "Df Model:                           4                                         \n",
      "Covariance Type:            nonrobust                                         \n",
      "===================================================================================\n",
      "                      coef    std err          t      P>|t|      [0.025      0.975]\n",
      "-----------------------------------------------------------------------------------\n",
      "Property Type_F -7.429e+04    966.563    -76.861      0.000   -7.62e+04   -7.24e+04\n",
      "Property Type_O  1.085e+06   4632.791    234.188      0.000    1.08e+06    1.09e+06\n",
      "Property Type_S -1.014e+05    869.295   -116.623      0.000   -1.03e+05   -9.97e+04\n",
      "Property Type_T -1.133e+05    848.421   -133.576      0.000   -1.15e+05   -1.12e+05\n",
      "const            2.498e+05    642.266    388.964      0.000    2.49e+05    2.51e+05\n",
      "==============================================================================\n",
      "Omnibus:                  6308409.603   Durbin-Watson:                   2.000\n",
      "Prob(Omnibus):                  0.000   Jarque-Bera (JB):   18874183057686.809\n",
      "Skew:                          97.550   Prob(JB):                         0.00\n",
      "Kurtosis:                   16828.097   Cond. No.                         16.6\n",
      "==============================================================================\n",
      "\n",
      "Notes:\n",
      "[1] Standard Errors assume that the covariance matrix of the errors is correctly specified.\n",
      " train_2 : 389308.76189117454, train : 389071.93337259075, Worse Score\n",
      " test_2 : 378059.72543943534, test : 377828.9281406184, Worse Score\n"
     ]
    }
   ],
   "source": [
    "property_cols_lin = ['Property Type_F', 'Property Type_O',\n",
    "       'Property Type_S', 'Property Type_T', 'const']\n",
    "\n",
    "lin_reg_func(property_cols_lin, rmse, rmse_test) # property type edits compare with basline scores"
   ]
  },
  {
   "cell_type": "code",
   "execution_count": 46,
   "id": "307c0541-4f96-42c6-a831-dac0086b5dc0",
   "metadata": {},
   "outputs": [
    {
     "name": "stdout",
     "output_type": "stream",
     "text": [
      "                            OLS Regression Results                            \n",
      "==============================================================================\n",
      "Dep. Variable:                  Price   R-squared:                       0.050\n",
      "Model:                            OLS   Adj. R-squared:                  0.050\n",
      "Method:                 Least Squares   F-statistic:                 2.106e+04\n",
      "Date:                Mon, 05 Aug 2024   Prob (F-statistic):               0.00\n",
      "Time:                        18:40:25   Log-Likelihood:            -2.2865e+07\n",
      "No. Observations:             1599948   AIC:                         4.573e+07\n",
      "Df Residuals:                 1599943   BIC:                         4.573e+07\n",
      "Df Model:                           4                                         \n",
      "Covariance Type:            nonrobust                                         \n",
      "===================================================================================\n",
      "                      coef    std err          t      P>|t|      [0.025      0.975]\n",
      "-----------------------------------------------------------------------------------\n",
      "Property Type_F -7.429e+04    966.563    -76.861      0.000   -7.62e+04   -7.24e+04\n",
      "Property Type_O  1.085e+06   4632.791    234.188      0.000    1.08e+06    1.09e+06\n",
      "Property Type_S -1.014e+05    869.295   -116.623      0.000   -1.03e+05   -9.97e+04\n",
      "Property Type_T -1.133e+05    848.421   -133.576      0.000   -1.15e+05   -1.12e+05\n",
      "const            2.498e+05    642.266    388.964      0.000    2.49e+05    2.51e+05\n",
      "==============================================================================\n",
      "Omnibus:                  6308409.603   Durbin-Watson:                   2.000\n",
      "Prob(Omnibus):                  0.000   Jarque-Bera (JB):   18874183057686.809\n",
      "Skew:                          97.550   Prob(JB):                         0.00\n",
      "Kurtosis:                   16828.097   Cond. No.                         16.6\n",
      "==============================================================================\n",
      "\n",
      "Notes:\n",
      "[1] Standard Errors assume that the covariance matrix of the errors is correctly specified.\n",
      " train_2 : 389308.76189117454, train : 391769.28979225556, Better Score\n",
      " test_2 : 378059.72543943534, test : 380572.17843168316, Better Score\n"
     ]
    }
   ],
   "source": [
    "lin_reg_func(property_cols_lin, 391769.28979225556, 380572.17843168316) # property type edits compare with correlation edits"
   ]
  },
  {
   "cell_type": "markdown",
   "id": "2544164e-a50a-4329-b6c6-684de284d17d",
   "metadata": {},
   "source": [
    "We can see that the rmse using propety columns did better than the columns from correlation but still not better than the original\n",
    "\n",
    "Now we will look at non property colums"
   ]
  },
  {
   "cell_type": "code",
   "execution_count": 47,
   "id": "d31cdcaf-0974-42cb-8679-d7868efa90ba",
   "metadata": {},
   "outputs": [
    {
     "name": "stdout",
     "output_type": "stream",
     "text": [
      "                            OLS Regression Results                            \n",
      "==============================================================================\n",
      "Dep. Variable:                  Price   R-squared:                       0.015\n",
      "Model:                            OLS   Adj. R-squared:                  0.015\n",
      "Method:                 Least Squares   F-statistic:                     7939.\n",
      "Date:                Mon, 05 Aug 2024   Prob (F-statistic):               0.00\n",
      "Time:                        18:40:26   Log-Likelihood:            -2.2894e+07\n",
      "No. Observations:             1599948   AIC:                         4.579e+07\n",
      "Df Residuals:                 1599944   BIC:                         4.579e+07\n",
      "Df Model:                           3                                         \n",
      "Covariance Type:            nonrobust                                         \n",
      "======================================================================================\n",
      "                         coef    std err          t      P>|t|      [0.025      0.975]\n",
      "--------------------------------------------------------------------------------------\n",
      "Old/New_Y           1.184e+04   1043.227     11.349      0.000    9794.443    1.39e+04\n",
      "Duration_L         -2.023e+04    742.909    -27.237      0.000   -2.17e+04   -1.88e+04\n",
      "PPDCategory Type_B  3.853e+05   2528.751    152.371      0.000     3.8e+05     3.9e+05\n",
      "const               1.758e+05    370.708    474.349      0.000    1.75e+05    1.77e+05\n",
      "==============================================================================\n",
      "Omnibus:                  6286330.577   Durbin-Watson:                   2.000\n",
      "Prob(Omnibus):                  0.000   Jarque-Bera (JB):   17834130707655.004\n",
      "Skew:                          96.490   Prob(JB):                         0.00\n",
      "Kurtosis:                   16357.920   Cond. No.                         8.38\n",
      "==============================================================================\n",
      "\n",
      "Notes:\n",
      "[1] Standard Errors assume that the covariance matrix of the errors is correctly specified.\n",
      " train_2 : 396485.48903863615, train : 389071.93337259075, Worse Score\n",
      " test_2 : 385262.9861692979, test : 377828.9281406184, Worse Score\n"
     ]
    }
   ],
   "source": [
    "non_property_cols_lin = ['Old/New_Y', 'Duration_L',\n",
    "       'PPDCategory Type_B', 'const']\n",
    "\n",
    "lin_reg_func(non_property_cols_lin, rmse, rmse_test) # non property type edits compare with basline scores"
   ]
  },
  {
   "cell_type": "code",
   "execution_count": 48,
   "id": "2c322144-fddc-4e73-9847-28a2b6fe5bc4",
   "metadata": {},
   "outputs": [
    {
     "name": "stdout",
     "output_type": "stream",
     "text": [
      "                            OLS Regression Results                            \n",
      "==============================================================================\n",
      "Dep. Variable:                  Price   R-squared:                       0.015\n",
      "Model:                            OLS   Adj. R-squared:                  0.015\n",
      "Method:                 Least Squares   F-statistic:                     7939.\n",
      "Date:                Mon, 05 Aug 2024   Prob (F-statistic):               0.00\n",
      "Time:                        18:40:26   Log-Likelihood:            -2.2894e+07\n",
      "No. Observations:             1599948   AIC:                         4.579e+07\n",
      "Df Residuals:                 1599944   BIC:                         4.579e+07\n",
      "Df Model:                           3                                         \n",
      "Covariance Type:            nonrobust                                         \n",
      "======================================================================================\n",
      "                         coef    std err          t      P>|t|      [0.025      0.975]\n",
      "--------------------------------------------------------------------------------------\n",
      "Old/New_Y           1.184e+04   1043.227     11.349      0.000    9794.443    1.39e+04\n",
      "Duration_L         -2.023e+04    742.909    -27.237      0.000   -2.17e+04   -1.88e+04\n",
      "PPDCategory Type_B  3.853e+05   2528.751    152.371      0.000     3.8e+05     3.9e+05\n",
      "const               1.758e+05    370.708    474.349      0.000    1.75e+05    1.77e+05\n",
      "==============================================================================\n",
      "Omnibus:                  6286330.577   Durbin-Watson:                   2.000\n",
      "Prob(Omnibus):                  0.000   Jarque-Bera (JB):   17834130707655.004\n",
      "Skew:                          96.490   Prob(JB):                         0.00\n",
      "Kurtosis:                   16357.920   Cond. No.                         8.38\n",
      "==============================================================================\n",
      "\n",
      "Notes:\n",
      "[1] Standard Errors assume that the covariance matrix of the errors is correctly specified.\n",
      " train_2 : 396485.48903863615, train : 389308.76189117454, Worse Score\n",
      " test_2 : 385262.9861692979, test : 378059.72543943534, Worse Score\n"
     ]
    }
   ],
   "source": [
    "lin_reg_func(non_property_cols_lin, 389308.76189117454, 378059.72543943534) # non property type edits compare with property type edits"
   ]
  },
  {
   "cell_type": "code",
   "execution_count": 49,
   "id": "7f1ced0f-1eb6-4e4a-afef-a80bae749b0a",
   "metadata": {},
   "outputs": [
    {
     "name": "stdout",
     "output_type": "stream",
     "text": [
      "                            OLS Regression Results                            \n",
      "==============================================================================\n",
      "Dep. Variable:                  Price   R-squared:                       0.015\n",
      "Model:                            OLS   Adj. R-squared:                  0.015\n",
      "Method:                 Least Squares   F-statistic:                     7939.\n",
      "Date:                Mon, 05 Aug 2024   Prob (F-statistic):               0.00\n",
      "Time:                        18:40:27   Log-Likelihood:            -2.2894e+07\n",
      "No. Observations:             1599948   AIC:                         4.579e+07\n",
      "Df Residuals:                 1599944   BIC:                         4.579e+07\n",
      "Df Model:                           3                                         \n",
      "Covariance Type:            nonrobust                                         \n",
      "======================================================================================\n",
      "                         coef    std err          t      P>|t|      [0.025      0.975]\n",
      "--------------------------------------------------------------------------------------\n",
      "Old/New_Y           1.184e+04   1043.227     11.349      0.000    9794.443    1.39e+04\n",
      "Duration_L         -2.023e+04    742.909    -27.237      0.000   -2.17e+04   -1.88e+04\n",
      "PPDCategory Type_B  3.853e+05   2528.751    152.371      0.000     3.8e+05     3.9e+05\n",
      "const               1.758e+05    370.708    474.349      0.000    1.75e+05    1.77e+05\n",
      "==============================================================================\n",
      "Omnibus:                  6286330.577   Durbin-Watson:                   2.000\n",
      "Prob(Omnibus):                  0.000   Jarque-Bera (JB):   17834130707655.004\n",
      "Skew:                          96.490   Prob(JB):                         0.00\n",
      "Kurtosis:                   16357.920   Cond. No.                         8.38\n",
      "==============================================================================\n",
      "\n",
      "Notes:\n",
      "[1] Standard Errors assume that the covariance matrix of the errors is correctly specified.\n",
      " train_2 : 396485.48903863615, train : 391769.28979225556, Worse Score\n",
      " test_2 : 385262.9861692979, test : 380572.17843168316, Worse Score\n"
     ]
    }
   ],
   "source": [
    "lin_reg_func(non_property_cols_lin, 391769.28979225556, 380572.17843168316) # non property type edits compare with correlation edits"
   ]
  },
  {
   "cell_type": "markdown",
   "id": "7c00090c-dbc4-4257-9c04-0a2a177887fe",
   "metadata": {},
   "source": [
    "From these tests, we can see that the baseline results are the best result, so using these columns :\n",
    "```Python\n",
    "lin_columns_df = ['Property Type_F', 'Property Type_O',\n",
    "       'Property Type_S', 'Property Type_T', 'Old/New_Y', 'Duration_L',\n",
    "       'PPDCategory Type_B', 'const']\n",
    "```\n",
    "Will give us the best RMSE, reducing the columns based on correlation, property type and non property type does not improve the score.\n",
    "\n",
    "But we see that looking at property type will give more information than looking at correlations has the property type columns gave a better rmse score than the correlation columns"
   ]
  },
  {
   "cell_type": "code",
   "execution_count": null,
   "id": "ac8504dc-9d14-4dd5-9541-c32d3839145e",
   "metadata": {},
   "outputs": [],
   "source": []
  },
  {
   "cell_type": "markdown",
   "id": "cbc5ea7b-7a50-410a-9a24-d6cd335f257a",
   "metadata": {},
   "source": [
    "## Logistic Regression"
   ]
  },
  {
   "cell_type": "code",
   "execution_count": 50,
   "id": "29e06c56-dc8c-48b6-a786-82fd26cb5733",
   "metadata": {},
   "outputs": [
    {
     "data": {
      "text/plain": [
       "Index(['Transaction unique identifier', 'Date of Transfer', 'Town/City',\n",
       "       'District', 'County', 'Property Type_F', 'Property Type_O',\n",
       "       'Property Type_S', 'Property Type_T', 'Old/New_Y', 'Duration_L',\n",
       "       'PPDCategory Type_B', 'const'],\n",
       "      dtype='object')"
      ]
     },
     "execution_count": 50,
     "metadata": {},
     "output_type": "execute_result"
    }
   ],
   "source": [
    "X_train_fe.columns"
   ]
  },
  {
   "cell_type": "code",
   "execution_count": 51,
   "id": "3ca25d3d-f6fc-442a-b884-6fb3339c71d3",
   "metadata": {},
   "outputs": [],
   "source": [
    "feature_cols_log = ['Property Type_F', 'Property Type_O',\n",
    "       'Property Type_S', 'Property Type_T', 'Old/New_Y', 'Duration_L',\n",
    "       'PPDCategory Type_B']"
   ]
  },
  {
   "cell_type": "code",
   "execution_count": 52,
   "id": "47775b3c-dd7c-407e-b6a8-39f4cb3e89ed",
   "metadata": {},
   "outputs": [
    {
     "name": "stdout",
     "output_type": "stream",
     "text": [
      "1\n",
      "98446300\n"
     ]
    }
   ],
   "source": [
    "print(y_train.min())\n",
    "print(y_train.max())"
   ]
  },
  {
   "cell_type": "code",
   "execution_count": 53,
   "id": "2b4b9a12-9ab5-4d67-9803-682916778534",
   "metadata": {},
   "outputs": [],
   "source": [
    "# Transform the continuous target variable into categorical bins\n",
    "# Using pd.cut\n",
    "bins = [y_train.min(), 100000, 500000, y_train.max()]\n",
    "labels = [0, 1, 2]\n",
    "y_train_categorical = pd.cut(y_train, bins=bins, labels=labels, include_lowest=True).astype(int)"
   ]
  },
  {
   "cell_type": "code",
   "execution_count": 54,
   "id": "c6f33127-eef6-44c6-8837-2d07f03170ad",
   "metadata": {},
   "outputs": [
    {
     "data": {
      "text/plain": [
       "{'Property Type_F': 437.0,\n",
       " 'Property Type_O': 349.0,\n",
       " 'Property Type_S': 223.0,\n",
       " 'Property Type_T': 329.0,\n",
       " 'Old/New_Y': 1308.0,\n",
       " 'Duration_L': 1264.0,\n",
       " 'PPDCategory Type_B': 1423.0}"
      ]
     },
     "execution_count": 54,
     "metadata": {},
     "output_type": "execute_result"
    }
   ],
   "source": [
    "#Create a model\n",
    "#Get the underlying algorithm ready to go\n",
    "model = xgb.XGBClassifier(objective='multi:softmax', num_class=3, random_state=42)\n",
    "\n",
    "model.fit(X_train_fe[feature_cols_log], y_train_categorical)\n",
    "\n",
    "# Note: XGBoost does not have a summary method for XGBClassifier\n",
    "# If you want to inspect the model, you can use model.get_booster().get_fscore() or model.get_params()\n",
    "model.get_booster().get_fscore()\n"
   ]
  },
  {
   "cell_type": "markdown",
   "id": "e917cfc2-4fed-4946-940a-5c119dc8a666",
   "metadata": {},
   "source": [
    "Here we will have our baseline score"
   ]
  },
  {
   "cell_type": "code",
   "execution_count": 55,
   "id": "b2dd2ac4-96bd-44f0-91dc-987eb106fe0d",
   "metadata": {},
   "outputs": [
    {
     "name": "stdout",
     "output_type": "stream",
     "text": [
      "0.6406629102666621\n"
     ]
    }
   ],
   "source": [
    "y_pred_log = model.predict(X_train_fe[feature_cols_log])\n",
    "\n",
    "rmse_log = metrics.mean_squared_error(y_train_categorical,y_pred_log, squared=False)\n",
    "print(rmse_log)"
   ]
  },
  {
   "cell_type": "code",
   "execution_count": 56,
   "id": "b943e9c6-5b7c-412d-b660-c1667d86e8d6",
   "metadata": {},
   "outputs": [],
   "source": [
    "# Transform the continuous target variable into categorical bins\n",
    "y_test_categorical = pd.cut(y_test, bins=bins, labels=labels, include_lowest=True).astype(int)"
   ]
  },
  {
   "cell_type": "code",
   "execution_count": 57,
   "id": "2599947d-4a0d-4f88-8f2b-1e2c4734affc",
   "metadata": {},
   "outputs": [
    {
     "name": "stdout",
     "output_type": "stream",
     "text": [
      "0.6421895142566302\n"
     ]
    }
   ],
   "source": [
    "#lets predict on test as well\n",
    "#y_test_pred holds the prediction on the testing set\n",
    "y_test_pred_log = model.predict(X_test_fe[feature_cols_log])\n",
    "\n",
    "#get the testing rmse\n",
    "rmse_test_log = statsmodels.tools.eval_measures.rmse(y_test_categorical, y_test_pred_log)\n",
    "\n",
    "#print it out\n",
    "print(rmse_test_log)"
   ]
  },
  {
   "cell_type": "code",
   "execution_count": 58,
   "id": "d204ae36-8b75-4184-8a1e-d826a7b36fb1",
   "metadata": {},
   "outputs": [],
   "source": [
    "# label encode\n",
    "houes_location_label = pd.DataFrame()                   # Create an empty dataframe to start\n",
    "cols_to_label = ['Town/City', 'District', 'County']      # Select columns to encode\n",
    "\n",
    "for col in cols_to_label:                   # Loop through chosen columns\n",
    "    houes_location_label[col] = house_df[col].astype('category').cat.codes # Label encode each column\n",
    "    \n",
    "houes_location_label['Price'] = house_df['Price']"
   ]
  },
  {
   "cell_type": "code",
   "execution_count": 59,
   "id": "d2b17805-d87c-4e25-8040-7f4758640413",
   "metadata": {},
   "outputs": [],
   "source": [
    "def log_reg_func(columns,rmse_score,rmse_test_score):\n",
    "    #Create a model\n",
    "    #Get the underlying algorithm ready to go\n",
    "    model = xgb.XGBClassifier(objective='multi:softmax', num_class=3, random_state=42)\n",
    "\n",
    "    model.fit(X_train_fe[columns], y_train_categorical)\n",
    "\n",
    "    # If you want to inspect the model, you can use model.get_booster().get_fscore() or model.get_params()\n",
    "    print(model.get_booster().get_fscore())\n",
    "    \n",
    "    y_pred_log = model.predict(X_train_fe[columns])\n",
    "\n",
    "    rmse_log_2 = metrics.mean_squared_error(y_train_categorical,y_pred_log, squared=False)\n",
    "    \n",
    "    #y_test_pred holds the prediction on the testing set\n",
    "    y_test_pred_log = model.predict(X_test_fe[columns])\n",
    "\n",
    "    #get the testing rmse\n",
    "    rmse_test_log = statsmodels.tools.eval_measures.rmse(y_test_categorical, y_test_pred_log)\n",
    "    \n",
    "    def better_score(score_1, score_2):\n",
    "        if score_1 > score_2:\n",
    "            return 'Better Score'\n",
    "        elif score_1 == score_2:\n",
    "            return 'Same Score'\n",
    "        else:\n",
    "            return 'Worse Score'\n",
    "        \n",
    "    #lets print out the RMSE scores\n",
    "    print(f' train_2 : {rmse_log_2}, train : {rmse_score}, {better_score(rmse_score,rmse_log_2)}')\n",
    "    print(f' test_2 : {rmse_test_log}, test : {rmse_test_score}, {better_score(rmse_test_score,rmse_test_log)}')"
   ]
  },
  {
   "cell_type": "markdown",
   "id": "c5758b1a-5390-4f41-b832-68512f7755ee",
   "metadata": {},
   "source": [
    "Changing the columns and comparing the scores to see if we can see an improvement"
   ]
  },
  {
   "cell_type": "code",
   "execution_count": 60,
   "id": "68a2499d-4b18-4167-82a4-39288c4917b9",
   "metadata": {},
   "outputs": [
    {
     "name": "stdout",
     "output_type": "stream",
     "text": [
      "{'Property Type_F': 255.0, 'Property Type_O': 231.0, 'Old/New_Y': 339.0}\n",
      " train_2 : 0.6408565343785407, train : 0.6406629102666621, Worse Score\n",
      " test_2 : 0.640850856826002, test : 0.6421895142566302, Better Score\n"
     ]
    }
   ],
   "source": [
    "log_reg_func(lin_columns_df_2[0:3],rmse_log,rmse_test_log) # comparing the correlation edit to the baseline score"
   ]
  },
  {
   "cell_type": "code",
   "execution_count": 61,
   "id": "24e64269-e22d-4877-acb5-9e984a7ddfde",
   "metadata": {},
   "outputs": [
    {
     "name": "stdout",
     "output_type": "stream",
     "text": [
      "{'Property Type_F': 193.0, 'Property Type_O': 157.0, 'Property Type_S': 208.0, 'Property Type_T': 202.0}\n",
      " train_2 : 0.6475650574006954, train : 0.6406629102666621, Worse Score\n",
      " test_2 : 0.648814402432517, test : 0.6421895142566302, Worse Score\n"
     ]
    }
   ],
   "source": [
    "log_reg_func(property_cols_lin[0:4],rmse_log,rmse_test_log) # comparing the property edit to the baseline score"
   ]
  },
  {
   "cell_type": "code",
   "execution_count": 62,
   "id": "eb407913-8ca0-4002-8027-f2c8e222aa5b",
   "metadata": {},
   "outputs": [
    {
     "name": "stdout",
     "output_type": "stream",
     "text": [
      "{'Property Type_F': 193.0, 'Property Type_O': 157.0, 'Property Type_S': 208.0, 'Property Type_T': 202.0}\n",
      " train_2 : 0.6475650574006954, train : 0.6408565343785407, Worse Score\n",
      " test_2 : 0.648814402432517, test : 0.640850856826002, Worse Score\n"
     ]
    }
   ],
   "source": [
    "log_reg_func(property_cols_lin[0:4],0.6408565343785407,0.640850856826002) # comparing the property edit to the correlation score"
   ]
  },
  {
   "cell_type": "code",
   "execution_count": 63,
   "id": "1dd3c1a9-197c-44cb-8a16-e650195a5462",
   "metadata": {},
   "outputs": [
    {
     "name": "stdout",
     "output_type": "stream",
     "text": [
      "{'Old/New_Y': 415.0, 'Duration_L': 406.0, 'PPDCategory Type_B': 311.0}\n",
      " train_2 : 0.6409052969721735, train : 0.6406629102666621, Worse Score\n",
      " test_2 : 0.6409425280161448, test : 0.6421895142566302, Better Score\n"
     ]
    }
   ],
   "source": [
    "log_reg_func(non_property_cols_lin[0:3],rmse_log,rmse_test_log) # comparing the non property edit to the baseline score"
   ]
  },
  {
   "cell_type": "code",
   "execution_count": 64,
   "id": "45a280f5-47b9-42d9-ab29-6eb1aa6edaa7",
   "metadata": {},
   "outputs": [
    {
     "name": "stdout",
     "output_type": "stream",
     "text": [
      "{'Old/New_Y': 415.0, 'Duration_L': 406.0, 'PPDCategory Type_B': 311.0}\n",
      " train_2 : 0.6409052969721735, train : 0.6408565343785407, Worse Score\n",
      " test_2 : 0.6409425280161448, test : 0.640850856826002, Worse Score\n"
     ]
    }
   ],
   "source": [
    "log_reg_func(non_property_cols_lin[0:3],0.6408565343785407,0.640850856826002) # comparing the non property edit to the correlation score"
   ]
  },
  {
   "cell_type": "code",
   "execution_count": 65,
   "id": "43dee170-e47f-49ab-8cfc-933a89466b46",
   "metadata": {},
   "outputs": [
    {
     "name": "stdout",
     "output_type": "stream",
     "text": [
      "{'Old/New_Y': 415.0, 'Duration_L': 406.0, 'PPDCategory Type_B': 311.0}\n",
      " train_2 : 0.6409052969721735, train : 0.6475650574006954, Better Score\n",
      " test_2 : 0.6409425280161448, test : 0.648814402432517, Better Score\n"
     ]
    }
   ],
   "source": [
    "log_reg_func(non_property_cols_lin[0:3],0.6475650574006954,0.648814402432517) # comparing the non property edit to the property edit score"
   ]
  },
  {
   "cell_type": "markdown",
   "id": "54426dc5-571f-452d-90c8-52a4e82c7170",
   "metadata": {},
   "source": [
    "Seeing as the correlation edit gave us a better test score than the basline score, we will use these columns with different random state to see if we can produce a better rmse."
   ]
  },
  {
   "cell_type": "code",
   "execution_count": null,
   "id": "9ea8a295-5f34-4ee6-a1d4-8c82bb42d88e",
   "metadata": {},
   "outputs": [],
   "source": []
  },
  {
   "cell_type": "markdown",
   "id": "c2948f01-c9db-4d5c-a588-e3e7421e14bc",
   "metadata": {},
   "source": [
    "## Decision Tree"
   ]
  },
  {
   "cell_type": "code",
   "execution_count": 68,
   "id": "57ec56d1-49cb-47a5-904d-c2811ed203a1",
   "metadata": {},
   "outputs": [],
   "source": [
    "def feature_labelling(df):\n",
    "    df.copy()\n",
    "    # label encode\n",
    "    df_new = pd.DataFrame()                   # Create an empty dataframe to start\n",
    "    #cols_to_label = ['Town/City', 'District', 'County']      # Select columns to encode\n",
    "\n",
    "    for col in df.columns:                   # Loop through chosen columns\n",
    "        df_new[col] = df[col].astype('category').cat.codes # Label encode each column\n",
    "    \n",
    "    return df_new"
   ]
  },
  {
   "cell_type": "code",
   "execution_count": 69,
   "id": "40a003ad-a956-4960-8a79-85c5c1d95eb7",
   "metadata": {},
   "outputs": [],
   "source": [
    "# The Train test splitting \n",
    "X = house_df.drop('Price', axis=1) # The features\n",
    "y = house_df['Price'] # The Target\n",
    "\n",
    "X_train, X_test, y_train, y_test = train_test_split(X, # The features\n",
    "                                                    y, # The Target\n",
    "                                                    test_size=0.2, #what % are we dedicating to the testing set ?\n",
    "                                                    random_state=0 #Random set, the number specifies the specific ramdon shuffel\n",
    "                                                   )"
   ]
  },
  {
   "cell_type": "code",
   "execution_count": 70,
   "id": "3505aa7c-da12-43b7-8b75-511abbdc1088",
   "metadata": {},
   "outputs": [],
   "source": [
    "X_train_fe = feature_labelling(X_train)\n",
    "X_test_fe = feature_labelling(X_test)"
   ]
  },
  {
   "cell_type": "code",
   "execution_count": 71,
   "id": "1d3b96cc-e097-4aa6-adc7-393d4270af30",
   "metadata": {},
   "outputs": [],
   "source": [
    "# Transform the continuous target variable into categorical bins\n",
    "# Using pd.cut\n",
    "bins = [y_train.min(), 100000, 500000, y_train.max()]\n",
    "labels = [0, 1, 2]\n",
    "y_train_categorical = pd.cut(y_train, bins=bins, labels=labels, include_lowest=True).astype(int)\n",
    "y_test_categorical = pd.cut(y_test, bins=bins, labels=labels, include_lowest=True).astype(int)"
   ]
  },
  {
   "cell_type": "code",
   "execution_count": 72,
   "id": "27622ecc-b147-44a9-b865-067066613a4a",
   "metadata": {},
   "outputs": [
    {
     "data": {
      "text/plain": [
       "0.7995264857945739"
      ]
     },
     "execution_count": 72,
     "metadata": {},
     "output_type": "execute_result"
    }
   ],
   "source": [
    "# we create a bagging classifier doing exactly what we did manually above\n",
    "#bagging clasifier can be any model, but works better for high varience models\n",
    "\n",
    "bag = BaggingClassifier(estimator=DecisionTreeClassifier())\n",
    "\n",
    "\n",
    "##we fit the bagging classifier on X_trsin and y_train\n",
    "bag.fit(X_train_fe, y_train_categorical)\n",
    "\n",
    "##we score the 'bagging claddifier' on X_test\n",
    "bag.score(X_test_fe, y_test_categorical)"
   ]
  },
  {
   "cell_type": "code",
   "execution_count": 73,
   "id": "1d178802-f156-4662-ae96-6ffd4c6d824f",
   "metadata": {},
   "outputs": [],
   "source": [
    "def tree_rmse(classifier, columns):\n",
    "    classifier.fit(X_train_fe[columns], y_train_categorical)\n",
    "    \n",
    "    y_pred = classifier.predict(X_train_fe[columns])\n",
    "    y_pred_test = classifier.predict(X_test_fe[columns])\n",
    "    \n",
    "    rmse = metrics.mean_squared_error(y_train_categorical,y_pred, squared=False)\n",
    "    rmse_test = metrics.mean_squared_error(y_test_categorical,y_pred_test, squared=False)\n",
    "    \n",
    "    return rmse_test"
   ]
  },
  {
   "cell_type": "code",
   "execution_count": 74,
   "id": "e19cf3d0-078d-4857-8f5e-a2238dfafd97",
   "metadata": {},
   "outputs": [
    {
     "name": "stdout",
     "output_type": "stream",
     "text": [
      "rmse_test : 0.4511636138455691\n"
     ]
    }
   ],
   "source": [
    "print(f'rmse_test : {tree_rmse(bag,X_train_fe.columns)}')"
   ]
  },
  {
   "cell_type": "code",
   "execution_count": 75,
   "id": "007335a3-0a2b-4246-9b15-d8a66f3716d2",
   "metadata": {},
   "outputs": [
    {
     "data": {
      "text/plain": [
       "Index(['Transaction unique identifier', 'Date of Transfer', 'Property Type',\n",
       "       'Old/New', 'Duration', 'Town/City', 'District', 'County',\n",
       "       'PPDCategory Type', 'Record Status - monthly file only'],\n",
       "      dtype='object')"
      ]
     },
     "execution_count": 75,
     "metadata": {},
     "output_type": "execute_result"
    }
   ],
   "source": [
    "X_train_fe.columns"
   ]
  },
  {
   "cell_type": "code",
   "execution_count": 76,
   "id": "52610935-f1e0-41c9-8ff3-a022ba398561",
   "metadata": {},
   "outputs": [
    {
     "name": "stdout",
     "output_type": "stream",
     "text": [
      "without_location_columns_rmse_test : 0.5748107620968546\n",
      "without_property_columns_rmse_test : 0.502245027354204\n",
      "without_exccess_columns_rmse_test : 0.45994983054176514\n"
     ]
    }
   ],
   "source": [
    "without_location_columns = ['Transaction unique identifier', 'Date of Transfer', 'Property Type',\n",
    "       'Old/New', 'Duration','PPDCategory Type', 'Record Status - monthly file only']\n",
    "without_property_columns = ['Transaction unique identifier', 'Date of Transfer','Duration', 'Town/City', 'District', 'County',\n",
    "       'PPDCategory Type', 'Record Status - monthly file only']\n",
    "without_exccess_columns = ['Date of Transfer', 'Property Type',\n",
    "       'Old/New', 'Duration', 'Town/City', 'District', 'County',\n",
    "       'PPDCategory Type']\n",
    "\n",
    "\n",
    "print(f'without_location_columns_rmse_test : {tree_rmse(bag,without_location_columns)}')\n",
    "print(f'without_property_columns_rmse_test : {tree_rmse(bag,without_property_columns)}')\n",
    "print(f'without_exccess_columns_rmse_test : {tree_rmse(bag,without_exccess_columns)}')"
   ]
  },
  {
   "cell_type": "markdown",
   "id": "704726fd-919c-4fb4-9221-8f88213e9411",
   "metadata": {},
   "source": [
    "## Ramdom Forest"
   ]
  },
  {
   "cell_type": "code",
   "execution_count": 77,
   "id": "cb59b0a4-8ba6-437a-bb6f-fd644d68e6f6",
   "metadata": {
    "tags": []
   },
   "outputs": [
    {
     "name": "stdout",
     "output_type": "stream",
     "text": [
      "0.8311945144717369\n"
     ]
    },
    {
     "data": {
      "text/plain": [
       "{'max_depth': None, 'n_estimators': 30}"
      ]
     },
     "execution_count": 77,
     "metadata": {},
     "output_type": "execute_result"
    }
   ],
   "source": [
    "rf = RandomForestClassifier(n_estimators=50) # random forests\n",
    "rf_score = cross_val_score(rf, X_train_fe, y_train_categorical, cv=5)\n",
    "\n",
    "## we're going to try to hypertune the random forest itslef\n",
    "\n",
    "rf_params = {\n",
    "    'n_estimators': [10, 20, 30], #number of trees to choose from.  3 options\n",
    "    'max_depth': [None, 1, 2, 3, 4, 5], #each of the trees has to abide by each parameter. 6 options   \n",
    "}\n",
    "\n",
    "#we create a gridsearch objects\n",
    "gs = GridSearchCV(rf, param_grid=rf_params, cv=5) # k =5\n",
    "\n",
    "\n",
    "#fit the gridsearch on the training set\n",
    "gs.fit(X_train_fe, y_train_categorical)\n",
    "\n",
    "#get the best accuracy score\n",
    "print(gs.best_score_)\n",
    "\n",
    "#we get the best parameters\n",
    "gs.best_params_"
   ]
  },
  {
   "cell_type": "code",
   "execution_count": 78,
   "id": "4ac40dcd-9c63-4d9e-b504-646e162812c1",
   "metadata": {},
   "outputs": [
    {
     "name": "stdout",
     "output_type": "stream",
     "text": [
      "without_location_columns_rmse_test : 0.4976494043479701\n",
      "without_property_columns_rmse_test : 0.48293839864407817\n",
      "without_exccess_columns_rmse_test : 0.4586189158106087\n"
     ]
    }
   ],
   "source": [
    "print(f'without_location_columns_rmse_test : {tree_rmse(gs,without_location_columns)}')\n",
    "print(f'without_property_columns_rmse_test : {tree_rmse(gs,without_property_columns)}')\n",
    "print(f'without_exccess_columns_rmse_test : {tree_rmse(gs,without_exccess_columns)}')"
   ]
  },
  {
   "cell_type": "markdown",
   "id": "1f25adbb-d0e4-4649-ba42-7043fc7d6e25",
   "metadata": {
    "tags": []
   },
   "source": [
    "## Comparative Analysis and Model Interpretations\n",
    "\n",
    "**Linear Regression vs. Logistic Regression:** Linear Regression generally outperforms Logistic Regression in this context, as the latter is typically more suited to classification tasks rather than continuous price prediction. While Logistic Regression with XGBoost offers insights into the categorical relationships within the dataset, it fails to match the predictive accuracy of Linear Regression for continuous price predictions.\n",
    "\n",
    "**Linear Regression vs. Decision Trees:** Decision Trees significantly outperform Linear Regression, especially when non-linear relationships dominate the data. While Linear Regression benefits from the inclusion of all features, Decision Trees excel by identifying complex patterns and interactions within the dataset. The ability of Decision Trees to handle both numerical and categorical data without the need for extensive preprocessing gives them a significant edge in predicting housing prices.\n",
    "\n",
    "**Decision Trees vs. Random Forests:** Although Random Forests are generally expected to outperform individual Decision Trees due to their ensemble nature, in this case, they perform worse when all features are included. This is likely due to overfitting, where the Random Forest model captures noise in the data rather than the underlying patterns. However, when excess, location, or property-specific features are removed, Random Forests surpass Decision Trees, highlighting the importance of feature selection in ensemble models.\n",
    "\n",
    "**Best Model and Feature Set:** The Decision Tree model with all features included is the best-performing model for this dataset, achieving a test RMSE of 0.4512. It effectively balances the complexity of the dataset, capturing non-linear relationships and interactions without overfitting. However, when feature selection is applied, Random Forests can outperform Decision Trees, suggesting that with the right feature set, Random Forests could become the most effective model.\n",
    "\n",
    "### Conclusion\n",
    "\n",
    "In conclusion, predicting housing prices in the Price Paid dataset is best achieved using Decision Trees, particularly when all features are included. This model’s ability to handle non-linear relationships and complex interactions within the data gives it an edge over simpler models like Linear Regression and even over more complex ensemble methods like Random Forests when feature selection is not carefully managed. Logistic Regression, while informative for classification tasks, does not provide the same level of accuracy in continuous price prediction.\n",
    "\n",
    "Future work could involve further exploration of feature engineering techniques, such as interaction terms and polynomial features, to enhance the performance of linear models. Additionally, more sophisticated ensemble methods, such as Gradient Boosting Machines, could be explored to see if they can offer superior performance while mitigating overfitting risks. Lastly, incorporating external data sources, such as economic indicators or geographic information, could provide additional predictive power and improve the overall accuracy of the models."
   ]
  },
  {
   "cell_type": "code",
   "execution_count": null,
   "id": "502a81fa-7583-4f3a-8f07-4e8cc0b02cdd",
   "metadata": {},
   "outputs": [],
   "source": []
  }
 ],
 "metadata": {
  "kernelspec": {
   "display_name": "Python 3 (ipykernel)",
   "language": "python",
   "name": "python3"
  },
  "language_info": {
   "codemirror_mode": {
    "name": "ipython",
    "version": 3
   },
   "file_extension": ".py",
   "mimetype": "text/x-python",
   "name": "python",
   "nbconvert_exporter": "python",
   "pygments_lexer": "ipython3",
   "version": "3.9.19"
  }
 },
 "nbformat": 4,
 "nbformat_minor": 5
}
